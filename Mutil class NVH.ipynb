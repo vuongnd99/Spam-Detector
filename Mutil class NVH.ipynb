{
 "cells": [
  {
   "cell_type": "code",
   "execution_count": 1,
   "metadata": {},
   "outputs": [],
   "source": [
    "import numpy as np\n",
    "import seaborn as sns\n",
    "import pandas as pd\n",
    "import warnings\n",
    "import matplotlib.pyplot as plt\n",
    "warnings.filterwarnings('ignore')"
   ]
  },
  {
   "cell_type": "code",
   "execution_count": 2,
   "metadata": {},
   "outputs": [],
   "source": [
    "df17=pd.read_csv('data_icaller_17k.csv')\n",
    "df17['Spam']=df17.Spam.replace({1:2})\n",
    "not_label=pd.read_csv('not_label.csv')\n",
    "not_label['Spam']=not_label.Spam.replace({0:1})\n",
    "data_icaller_25k=pd.concat([df17, not_label], axis=0)\n",
    "df=data_icaller_25k\n"
   ]
  },
  {
   "cell_type": "code",
   "execution_count": 3,
   "metadata": {},
   "outputs": [
    {
     "data": {
      "text/html": [
       "<div>\n",
       "<style scoped>\n",
       "    .dataframe tbody tr th:only-of-type {\n",
       "        vertical-align: middle;\n",
       "    }\n",
       "\n",
       "    .dataframe tbody tr th {\n",
       "        vertical-align: top;\n",
       "    }\n",
       "\n",
       "    .dataframe thead th {\n",
       "        text-align: right;\n",
       "    }\n",
       "</style>\n",
       "<table border=\"1\" class=\"dataframe\">\n",
       "  <thead>\n",
       "    <tr style=\"text-align: right;\">\n",
       "      <th></th>\n",
       "      <th>call_to</th>\n",
       "      <th>call_in</th>\n",
       "      <th>call_to_miss</th>\n",
       "      <th>call_in_miss</th>\n",
       "      <th>duration_call_to</th>\n",
       "      <th>duration_call_in</th>\n",
       "      <th>avg_duration_call_to</th>\n",
       "      <th>avg_duration_call_in</th>\n",
       "      <th>avg_in_contact</th>\n",
       "      <th>in_hour</th>\n",
       "      <th>avg_success</th>\n",
       "      <th>Spam</th>\n",
       "    </tr>\n",
       "  </thead>\n",
       "  <tbody>\n",
       "    <tr>\n",
       "      <th>count</th>\n",
       "      <td>25572.000000</td>\n",
       "      <td>25572.000000</td>\n",
       "      <td>25572.000000</td>\n",
       "      <td>25572.000000</td>\n",
       "      <td>25572.000000</td>\n",
       "      <td>25572.000000</td>\n",
       "      <td>25572.000000</td>\n",
       "      <td>25572.000000</td>\n",
       "      <td>25572.000000</td>\n",
       "      <td>25572.000000</td>\n",
       "      <td>25572.000000</td>\n",
       "      <td>25572.000000</td>\n",
       "    </tr>\n",
       "    <tr>\n",
       "      <th>mean</th>\n",
       "      <td>18.634444</td>\n",
       "      <td>14.430197</td>\n",
       "      <td>15.603081</td>\n",
       "      <td>9.184029</td>\n",
       "      <td>1046.532345</td>\n",
       "      <td>764.184002</td>\n",
       "      <td>25.628671</td>\n",
       "      <td>19.596430</td>\n",
       "      <td>0.402647</td>\n",
       "      <td>39.928868</td>\n",
       "      <td>0.490941</td>\n",
       "      <td>1.000000</td>\n",
       "    </tr>\n",
       "    <tr>\n",
       "      <th>std</th>\n",
       "      <td>63.044699</td>\n",
       "      <td>33.027303</td>\n",
       "      <td>74.374359</td>\n",
       "      <td>24.658062</td>\n",
       "      <td>3731.220579</td>\n",
       "      <td>2434.227175</td>\n",
       "      <td>53.191038</td>\n",
       "      <td>49.618314</td>\n",
       "      <td>0.426544</td>\n",
       "      <td>125.476911</td>\n",
       "      <td>0.308517</td>\n",
       "      <td>0.816513</td>\n",
       "    </tr>\n",
       "    <tr>\n",
       "      <th>min</th>\n",
       "      <td>0.000000</td>\n",
       "      <td>0.000000</td>\n",
       "      <td>0.000000</td>\n",
       "      <td>0.000000</td>\n",
       "      <td>0.000000</td>\n",
       "      <td>0.000000</td>\n",
       "      <td>0.000000</td>\n",
       "      <td>0.000000</td>\n",
       "      <td>0.000000</td>\n",
       "      <td>0.000000</td>\n",
       "      <td>0.000000</td>\n",
       "      <td>0.000000</td>\n",
       "    </tr>\n",
       "    <tr>\n",
       "      <th>25%</th>\n",
       "      <td>1.000000</td>\n",
       "      <td>0.000000</td>\n",
       "      <td>0.000000</td>\n",
       "      <td>0.000000</td>\n",
       "      <td>13.000000</td>\n",
       "      <td>0.000000</td>\n",
       "      <td>3.499956</td>\n",
       "      <td>0.000000</td>\n",
       "      <td>0.000000</td>\n",
       "      <td>2.000000</td>\n",
       "      <td>0.252242</td>\n",
       "      <td>0.000000</td>\n",
       "    </tr>\n",
       "    <tr>\n",
       "      <th>50%</th>\n",
       "      <td>3.000000</td>\n",
       "      <td>1.000000</td>\n",
       "      <td>4.000000</td>\n",
       "      <td>1.000000</td>\n",
       "      <td>117.000000</td>\n",
       "      <td>13.000000</td>\n",
       "      <td>14.259457</td>\n",
       "      <td>4.799948</td>\n",
       "      <td>0.200276</td>\n",
       "      <td>9.000000</td>\n",
       "      <td>0.500000</td>\n",
       "      <td>1.000000</td>\n",
       "    </tr>\n",
       "    <tr>\n",
       "      <th>75%</th>\n",
       "      <td>19.000000</td>\n",
       "      <td>19.000000</td>\n",
       "      <td>16.000000</td>\n",
       "      <td>9.000000</td>\n",
       "      <td>741.000000</td>\n",
       "      <td>711.000000</td>\n",
       "      <td>29.937685</td>\n",
       "      <td>25.332489</td>\n",
       "      <td>0.876975</td>\n",
       "      <td>50.000000</td>\n",
       "      <td>0.680000</td>\n",
       "      <td>2.000000</td>\n",
       "    </tr>\n",
       "    <tr>\n",
       "      <th>max</th>\n",
       "      <td>2333.000000</td>\n",
       "      <td>1366.000000</td>\n",
       "      <td>2812.000000</td>\n",
       "      <td>1718.000000</td>\n",
       "      <td>124623.000000</td>\n",
       "      <td>143204.000000</td>\n",
       "      <td>3745.625437</td>\n",
       "      <td>2182.445439</td>\n",
       "      <td>1.000000</td>\n",
       "      <td>4704.000000</td>\n",
       "      <td>1.000000</td>\n",
       "      <td>2.000000</td>\n",
       "    </tr>\n",
       "  </tbody>\n",
       "</table>\n",
       "</div>"
      ],
      "text/plain": [
       "            call_to       call_in  call_to_miss  call_in_miss  \\\n",
       "count  25572.000000  25572.000000  25572.000000  25572.000000   \n",
       "mean      18.634444     14.430197     15.603081      9.184029   \n",
       "std       63.044699     33.027303     74.374359     24.658062   \n",
       "min        0.000000      0.000000      0.000000      0.000000   \n",
       "25%        1.000000      0.000000      0.000000      0.000000   \n",
       "50%        3.000000      1.000000      4.000000      1.000000   \n",
       "75%       19.000000     19.000000     16.000000      9.000000   \n",
       "max     2333.000000   1366.000000   2812.000000   1718.000000   \n",
       "\n",
       "       duration_call_to  duration_call_in  avg_duration_call_to  \\\n",
       "count      25572.000000      25572.000000          25572.000000   \n",
       "mean        1046.532345        764.184002             25.628671   \n",
       "std         3731.220579       2434.227175             53.191038   \n",
       "min            0.000000          0.000000              0.000000   \n",
       "25%           13.000000          0.000000              3.499956   \n",
       "50%          117.000000         13.000000             14.259457   \n",
       "75%          741.000000        711.000000             29.937685   \n",
       "max       124623.000000     143204.000000           3745.625437   \n",
       "\n",
       "       avg_duration_call_in  avg_in_contact       in_hour   avg_success  \\\n",
       "count          25572.000000    25572.000000  25572.000000  25572.000000   \n",
       "mean              19.596430        0.402647     39.928868      0.490941   \n",
       "std               49.618314        0.426544    125.476911      0.308517   \n",
       "min                0.000000        0.000000      0.000000      0.000000   \n",
       "25%                0.000000        0.000000      2.000000      0.252242   \n",
       "50%                4.799948        0.200276      9.000000      0.500000   \n",
       "75%               25.332489        0.876975     50.000000      0.680000   \n",
       "max             2182.445439        1.000000   4704.000000      1.000000   \n",
       "\n",
       "               Spam  \n",
       "count  25572.000000  \n",
       "mean       1.000000  \n",
       "std        0.816513  \n",
       "min        0.000000  \n",
       "25%        0.000000  \n",
       "50%        1.000000  \n",
       "75%        2.000000  \n",
       "max        2.000000  "
      ]
     },
     "execution_count": 3,
     "metadata": {},
     "output_type": "execute_result"
    }
   ],
   "source": [
    "df.describe()"
   ]
  },
  {
   "cell_type": "code",
   "execution_count": 4,
   "metadata": {},
   "outputs": [
    {
     "data": {
      "text/plain": [
       "Index(['call_to', 'call_in', 'call_to_miss', 'call_in_miss',\n",
       "       'duration_call_to', 'duration_call_in', 'avg_duration_call_to',\n",
       "       'avg_duration_call_in', 'avg_in_contact', 'in_hour', 'avg_success',\n",
       "       'Spam'],\n",
       "      dtype='object')"
      ]
     },
     "execution_count": 4,
     "metadata": {},
     "output_type": "execute_result"
    }
   ],
   "source": [
    "df.columns"
   ]
  },
  {
   "cell_type": "code",
   "execution_count": 5,
   "metadata": {},
   "outputs": [
    {
     "data": {
      "text/plain": [
       "(21842, 12)"
      ]
     },
     "execution_count": 5,
     "metadata": {},
     "output_type": "execute_result"
    }
   ],
   "source": [
    "df=df.drop(df.loc[((df.Spam==2)&(df.call_to==0)&(df.call_in!=0)&(df.call_to_miss==0))|((df.Spam==1)&(df.avg_success==0)&(df.call_to==0)&(df.call_in==0))].index)\n",
    "df.shape"
   ]
  },
  {
   "cell_type": "code",
   "execution_count": 6,
   "metadata": {},
   "outputs": [
    {
     "data": {
      "text/plain": [
       "(21842, 11)"
      ]
     },
     "execution_count": 6,
     "metadata": {},
     "output_type": "execute_result"
    }
   ],
   "source": [
    "X = df.copy()#.drop(columns=['phone'])#,'call_in','call_to_miss','duration_call_in','duration_call_to','call_in_miss','call_to'])\n",
    "y = X.pop(\"Spam\")\n",
    "X.shape"
   ]
  },
  {
   "cell_type": "code",
   "execution_count": 7,
   "metadata": {},
   "outputs": [
    {
     "name": "stderr",
     "output_type": "stream",
     "text": [
      "Using TensorFlow backend.\n"
     ]
    }
   ],
   "source": [
    "from sklearn.model_selection import train_test_split\n",
    "from sklearn import metrics\n",
    "from sklearn.metrics import accuracy_score, classification_report, precision_score, recall_score \n",
    "from sklearn.metrics import confusion_matrix, precision_recall_curve, roc_curve, auc, log_loss, classification_report\n",
    "from sklearn.linear_model import LogisticRegression\n",
    "from sklearn.feature_selection import RFE\n",
    "from sklearn import preprocessing\n",
    "\n",
    "from sklearn.linear_model import LogisticRegression\n",
    "from sklearn.svm import SVC, LinearSVC\n",
    "from sklearn.ensemble import RandomForestClassifier\n",
    "from sklearn.neighbors import KNeighborsClassifier\n",
    "from sklearn.naive_bayes import GaussianNB, BernoulliNB, MultinomialNB\n",
    "from sklearn.linear_model import Perceptron\n",
    "from sklearn.linear_model import SGDClassifier\n",
    "from sklearn.tree import DecisionTreeClassifier\n",
    "\n",
    "from sklearn.preprocessing import binarize\n",
    "\n",
    "import eli5\n",
    "from eli5.sklearn import PermutationImportance"
   ]
  },
  {
   "cell_type": "code",
   "execution_count": 8,
   "metadata": {},
   "outputs": [],
   "source": [
    "\n",
    "# for feature in X.columns:\n",
    "#     X[feature]=X[feature].apply(np.log1p)"
   ]
  },
  {
   "cell_type": "code",
   "execution_count": 9,
   "metadata": {},
   "outputs": [
    {
     "data": {
      "text/plain": [
       "(100000, 11)"
      ]
     },
     "execution_count": 9,
     "metadata": {},
     "output_type": "execute_result"
    }
   ],
   "source": [
    "X_train, X_test, y_train, y_test = train_test_split(X, y, test_size=0.3, random_state=2)\n",
    "df_test=pd.read_csv('data_icaller_test.csv')\n",
    "X_test = df_test.copy()#.drop(columns=['Spam'])#,'call_in','call_to_miss','duration_call_in','duration_call_to','call_in_miss','call_to'])\n",
    "X_test[\"Spam\"]=1\n",
    "y_test = X_test.pop(\"Spam\")\n",
    "X_test.shape\n",
    "# y_train = tf.keras.utils.to_categorical(y_train, number_of_classes)\n",
    "# y_test = tf.keras.utils.to_categorical(y_test, number_of_classes)"
   ]
  },
  {
   "cell_type": "code",
   "execution_count": 10,
   "metadata": {},
   "outputs": [
    {
     "name": "stdout",
     "output_type": "stream",
     "text": [
      "Accuracy train LR:  0.845\n",
      "Accuracy ttest LR:  0.732\n",
      "Sum Spam:  15746\n",
      "Sum Member:  11071\n"
     ]
    }
   ],
   "source": [
    "logreg = LogisticRegression(multi_class='ovr')\n",
    "h2=LogisticRegression()\n",
    "logreg.fit(X_train, y_train)\n",
    "y_pred_LR = logreg.predict(X_test)\n",
    "y_p_LR=logreg.predict_proba(X_test)\n",
    "# THRESHOLD=0.5\n",
    "# y_pred_LR  = binarize(y_p_LR[:,1].reshape(-1, 1), THRESHOLD).ravel()\n",
    "# Y_test_pred = pred_proba_df.applymap(lambda x: 1 if x>i else 0)\n",
    "y_pred_train=logreg.predict(X_train)\n",
    "\n",
    "accuracy_train_LR = round(metrics.accuracy_score(y_pred_train, y_train),3)\n",
    "accuracy_LR = round(metrics.accuracy_score(y_pred_LR, y_test),3)\n",
    "# f1_score_LR = round(metrics.f1_score(y_test,y_pred_LR),3)\n",
    "# precision_LR = round(metrics.precision_score(y_test,y_pred_LR),3)\n",
    "# recall_LR = round(metrics.recall_score(y_test,y_pred_LR),3)\n",
    "                          \n",
    "print(\"Accuracy train LR: \", accuracy_train_LR)\n",
    "print(\"Accuracy ttest LR: \", accuracy_LR)\n",
    "# print(\"F1 score LR: \", f1_score_LR)\n",
    "# print(\"Precision LR: \", precision_LR)\n",
    "# print(\"Recall LR: \", recall_LR)\n",
    "# print(\"Sum Spam: \", y_pred_LR.sum())\n",
    "# print(y_p_LR[998])\n",
    "print(\"Sum Spam: \",(y_pred_LR==2).sum())\n",
    "print(\"Sum Member: \",(y_pred_LR==0).sum())\n",
    "# perm = PermutationImportance(logreg, random_state=1).fit(X_test, y_test)\n",
    "# eli5.show_weights(perm, feature_names = X_test.columns.tolist())"
   ]
  },
  {
   "cell_type": "code",
   "execution_count": 11,
   "metadata": {
    "scrolled": true
   },
   "outputs": [
    {
     "name": "stdout",
     "output_type": "stream",
     "text": [
      "<class 'pandas.core.frame.DataFrame'>\n",
      "Int64Index: 15289 entries, 1628 to 3330\n",
      "Data columns (total 11 columns):\n",
      " #   Column                Non-Null Count  Dtype  \n",
      "---  ------                --------------  -----  \n",
      " 0   call_to               15289 non-null  int64  \n",
      " 1   call_in               15289 non-null  int64  \n",
      " 2   call_to_miss          15289 non-null  int64  \n",
      " 3   call_in_miss          15289 non-null  int64  \n",
      " 4   duration_call_to      15289 non-null  float64\n",
      " 5   duration_call_in      15289 non-null  float64\n",
      " 6   avg_duration_call_to  15289 non-null  float64\n",
      " 7   avg_duration_call_in  15289 non-null  float64\n",
      " 8   avg_in_contact        15289 non-null  float64\n",
      " 9   in_hour               15289 non-null  int64  \n",
      " 10  avg_success           15289 non-null  float64\n",
      "dtypes: float64(6), int64(5)\n",
      "memory usage: 1.4 MB\n"
     ]
    }
   ],
   "source": [
    "X_train.info()"
   ]
  },
  {
   "cell_type": "code",
   "execution_count": 12,
   "metadata": {},
   "outputs": [
    {
     "data": {
      "text/plain": [
       "100000"
      ]
     },
     "execution_count": 12,
     "metadata": {},
     "output_type": "execute_result"
    }
   ],
   "source": [
    "y_test.sum()"
   ]
  },
  {
   "cell_type": "code",
   "execution_count": 13,
   "metadata": {},
   "outputs": [
    {
     "name": "stdout",
     "output_type": "stream",
     "text": [
      "Accuracy train RF:  0.995\n",
      "Accuracy RF :  0.726\n",
      "Sum Spam:  3846\n",
      "Sum Member:  23567\n"
     ]
    }
   ],
   "source": [
    "random_forest = RandomForestClassifier(n_estimators=100)\n",
    "h1=RandomForestClassifier(n_estimators=100)\n",
    "random_forest.fit(X_train, y_train)\n",
    "\n",
    "y_pred_rf = random_forest.predict(X_test)\n",
    "y_p_rf=random_forest.predict_proba(X_test)\n",
    "y_pred_train=random_forest.predict(X_train)\n",
    "\n",
    "# y_pred_rf  = binarize(y_p_rf[:,1].reshape(-1, 1), THRESHOLD).ravel()\n",
    "\n",
    "\n",
    "accuracy_train_RF = round(metrics.accuracy_score(y_pred_train, y_train),3)\n",
    "accuracy_RF = round(metrics.accuracy_score( y_test,y_pred_rf),3)\n",
    "# f1_score_RF = round(metrics.f1_score( y_test,y_pred_rf),3)\n",
    "# precision_RF = round(metrics.precision_score(y_test,y_pred_rf),3)\n",
    "# recall_RF = round(metrics.recall_score(y_test,y_pred_rf),3)\n",
    "\n",
    "print(\"Accuracy train RF: \", accuracy_train_RF)\n",
    "print(\"Accuracy RF : \", accuracy_RF)\n",
    "# print(\"F1 score RF: \", f1_score_RF)\n",
    "# print(\"Precision RF: \", precision_RF)\n",
    "# print(\"Recall RF: \", recall_RF)\n",
    "# print(\"Sum Spam: \", y_pred_rf.sum())\n",
    "# print(y_p_rf[998])\n",
    "print(\"Sum Spam: \",(y_pred_rf==2).sum())\n",
    "print(\"Sum Member: \",(y_pred_rf==0).sum())\n",
    "# perm = PermutationImportance(random_forest, random_state=1).fit(X_test, y_test)\n",
    "# eli5.show_weights(perm, feature_names = X_test.columns.tolist())\n",
    "# # print(y_pred )\n",
    "# print(y_p)"
   ]
  },
  {
   "cell_type": "code",
   "execution_count": 23,
   "metadata": {},
   "outputs": [
    {
     "name": "stdout",
     "output_type": "stream",
     "text": [
      "Accuracy KNN:  0.657\n"
     ]
    },
    {
     "ename": "NameError",
     "evalue": "name 'y_pred_KNN' is not defined",
     "output_type": "error",
     "traceback": [
      "\u001b[1;31m---------------------------------------------------------------------------\u001b[0m",
      "\u001b[1;31mNameError\u001b[0m                                 Traceback (most recent call last)",
      "\u001b[1;32m<ipython-input-23-f4171dbdc8b6>\u001b[0m in \u001b[0;36m<module>\u001b[1;34m\u001b[0m\n\u001b[0;32m     18\u001b[0m \u001b[1;31m# print(\"Recall KNN: \", recall_KNN)\u001b[0m\u001b[1;33m\u001b[0m\u001b[1;33m\u001b[0m\u001b[1;33m\u001b[0m\u001b[0m\n\u001b[0;32m     19\u001b[0m \u001b[1;31m# print(\"Sum Spam: \", y_pred_knn.sum())\u001b[0m\u001b[1;33m\u001b[0m\u001b[1;33m\u001b[0m\u001b[1;33m\u001b[0m\u001b[0m\n\u001b[1;32m---> 20\u001b[1;33m \u001b[0mprint\u001b[0m\u001b[1;33m(\u001b[0m\u001b[1;34m\"Sum Spam: \"\u001b[0m\u001b[1;33m,\u001b[0m\u001b[1;33m(\u001b[0m\u001b[0my_pred_KNN\u001b[0m\u001b[1;33m==\u001b[0m\u001b[1;36m2\u001b[0m\u001b[1;33m)\u001b[0m\u001b[1;33m.\u001b[0m\u001b[0msum\u001b[0m\u001b[1;33m(\u001b[0m\u001b[1;33m)\u001b[0m\u001b[1;33m)\u001b[0m\u001b[1;33m\u001b[0m\u001b[1;33m\u001b[0m\u001b[0m\n\u001b[0m\u001b[0;32m     21\u001b[0m \u001b[0mprint\u001b[0m\u001b[1;33m(\u001b[0m\u001b[1;34m\"Sum Member: \"\u001b[0m\u001b[1;33m,\u001b[0m\u001b[1;33m(\u001b[0m\u001b[0my_pred_KNN\u001b[0m\u001b[1;33m==\u001b[0m\u001b[1;36m0\u001b[0m\u001b[1;33m)\u001b[0m\u001b[1;33m.\u001b[0m\u001b[0msum\u001b[0m\u001b[1;33m(\u001b[0m\u001b[1;33m)\u001b[0m\u001b[1;33m)\u001b[0m\u001b[1;33m\u001b[0m\u001b[1;33m\u001b[0m\u001b[0m\n\u001b[0;32m     22\u001b[0m \u001b[1;31m# perm = PermutationImportance(knn, random_state=1).fit(X_test, y_test)\u001b[0m\u001b[1;33m\u001b[0m\u001b[1;33m\u001b[0m\u001b[1;33m\u001b[0m\u001b[0m\n",
      "\u001b[1;31mNameError\u001b[0m: name 'y_pred_KNN' is not defined"
     ]
    }
   ],
   "source": [
    "knn = KNeighborsClassifier(n_neighbors = 10,  weights = 'distance')\n",
    "knn.fit(X_train, y_train)\n",
    "y_pred_knn = knn.predict(X_test)\n",
    "# y_p_knn=knn.predict_proba(X_test)\n",
    "\n",
    "\n",
    "# y_pred_knn  = binarize(y_p_knn[:,1].reshape(-1, 1), THRESHOLD).ravel()\n",
    "\n",
    "\n",
    "accuracy_KNN = round(metrics.accuracy_score(y_test,y_pred_knn),3)\n",
    "# f1_score_KNN = round(metrics.f1_score(y_test,y_pred_knn),3)\n",
    "# precision_KNN = round(metrics.precision_score(y_test,y_pred_knn),3)\n",
    "# recall_KNN = round(metrics.recall_score(y_test,y_pred_knn),3)\n",
    "# y_pred_knn\n",
    "print(\"Accuracy KNN: \", accuracy_KNN)\n",
    "# print(\"F1 score KNN: \", f1_score_KNN)\n",
    "# print(\"Precision KNN: \", precision_KNN)\n",
    "# print(\"Recall KNN: \", recall_KNN)\n",
    "# print(\"Sum Spam: \", y_pred_knn.sum())\n",
    "# print(\"Sum Spam: \",(y_pred_KNN==2).sum())\n",
    "# print(\"Sum Member: \",(y_pred_KNN==0).sum())\n",
    "# perm = PermutationImportance(knn, random_state=1).fit(X_test, y_test)\n",
    "# eli5.show_weights(perm, feature_names = X_test.columns.tolist())\n"
   ]
  },
  {
   "cell_type": "code",
   "execution_count": 15,
   "metadata": {},
   "outputs": [
    {
     "name": "stdout",
     "output_type": "stream",
     "text": [
      "Accuracy train SVC:  0.672\n",
      "Accuracy SVC:  0.671\n"
     ]
    }
   ],
   "source": [
    "svc = LinearSVC()\n",
    "svc.fit(X_train, y_train)\n",
    "y_pred_svc = svc.predict(X_test)\n",
    "y_pred_train=svc.predict(X_train)\n",
    "\n",
    "# y_p_svc=svc.predict_proba(X_test)\n",
    "\n",
    "# y_pred_svc  = binarize(y_p_svc[:,1].reshape(-1, 1), THRESHOLD).ravel()\n",
    "\n",
    "\n",
    "accuracy_train_SVC = round(metrics.accuracy_score(y_train,y_pred_train),3)\n",
    "accuracy_SVC = round(metrics.accuracy_score( y_test,y_pred_svc),3)\n",
    "# f1_score_SVC = round(metrics.f1_score(y_test,y_pred_svc),3)\n",
    "# precision_SVC = round(metrics.precision_score( y_test,y_pred_svc),3)\n",
    "# recall_SVC = round(metrics.recall_score( y_test,y_pred_svc),3)\n",
    "\n",
    "print(\"Accuracy train SVC: \", accuracy_train_SVC)\n",
    "print(\"Accuracy SVC: \", accuracy_SVC)\n",
    "# print(\"F1 score SVC: \", f1_score_SVC)\n",
    "# print(\"Precision SVC: \", precision_SVC)\n",
    "# print(\"Recall SVC: \", recall_SVC)\n",
    "# print(\"Sum Spam: \", y_pred_svc.sum())\n",
    "\n",
    "# perm = PermutationImportance(svc, random_state=1).fit(X_test, y_test)\n",
    "# eli5.show_weights(perm, feature_names = X_test.columns.tolist())\n",
    "\n",
    "# print(y_pred )\n",
    "# print(y_p)"
   ]
  },
  {
   "cell_type": "code",
   "execution_count": 16,
   "metadata": {},
   "outputs": [
    {
     "name": "stdout",
     "output_type": "stream",
     "text": [
      "Accuracy NB:  0.606\n"
     ]
    }
   ],
   "source": [
    "gaussian = BernoulliNB()\n",
    "gaussian.fit(X_train, y_train)\n",
    "\n",
    "y_pred_NB = gaussian.predict(X_test)\n",
    "# y_p_NB=gaussian.predict_proba(X_test)\n",
    "# THRESHOLD=0.5\n",
    "# y_pred_NB  = binarize(y_p_NB[:,1].reshape(-1, 1), THRESHOLD).ravel()\n",
    "\n",
    "\n",
    "accuracy_NB = round(metrics.accuracy_score(y_test,y_pred_NB),3)\n",
    "# f1_score_NB = round(metrics.f1_score(y_test,y_pred_NB),3)\n",
    "# precision_NB = round(metrics.precision_score(y_test,y_pred_NB),3)\n",
    "# recall_NB = round(metrics.recall_score( y_test, y_pred_NB),3)\n",
    "\n",
    "print(\"Accuracy NB: \", accuracy_NB)\n",
    "# print(\"F1 score NB: \", f1_score_NB)\n",
    "# print(\"Precision NB: \", precision_NB)\n",
    "# print(\"Recall NB: \", recall_NB)\n",
    "# print(\"Sum Spam: \", y_pred_NB.sum())\n",
    "\n",
    "# perm = PermutationImportance(knn, random_state=1).fit(X_test, y_test)\n",
    "# eli5.show_weights(perm, feature_names = X_test.columns.tolist())\n",
    "\n"
   ]
  },
  {
   "cell_type": "code",
   "execution_count": 17,
   "metadata": {
    "scrolled": true
   },
   "outputs": [
    {
     "data": {
      "text/html": [
       "<div>\n",
       "<style scoped>\n",
       "    .dataframe tbody tr th:only-of-type {\n",
       "        vertical-align: middle;\n",
       "    }\n",
       "\n",
       "    .dataframe tbody tr th {\n",
       "        vertical-align: top;\n",
       "    }\n",
       "\n",
       "    .dataframe thead th {\n",
       "        text-align: right;\n",
       "    }\n",
       "</style>\n",
       "<table border=\"1\" class=\"dataframe\">\n",
       "  <thead>\n",
       "    <tr style=\"text-align: right;\">\n",
       "      <th></th>\n",
       "      <th>call_to</th>\n",
       "      <th>call_in</th>\n",
       "      <th>call_to_miss</th>\n",
       "      <th>call_in_miss</th>\n",
       "      <th>duration_call_to</th>\n",
       "      <th>duration_call_in</th>\n",
       "      <th>avg_duration_call_to</th>\n",
       "      <th>avg_duration_call_in</th>\n",
       "      <th>avg_in_contact</th>\n",
       "      <th>in_hour</th>\n",
       "      <th>avg_success</th>\n",
       "    </tr>\n",
       "  </thead>\n",
       "  <tbody>\n",
       "    <tr>\n",
       "      <th>1628</th>\n",
       "      <td>1</td>\n",
       "      <td>2</td>\n",
       "      <td>0</td>\n",
       "      <td>0</td>\n",
       "      <td>12.000000</td>\n",
       "      <td>2.0</td>\n",
       "      <td>11.998800</td>\n",
       "      <td>0.999950</td>\n",
       "      <td>1.000000</td>\n",
       "      <td>1</td>\n",
       "      <td>0.333333</td>\n",
       "    </tr>\n",
       "    <tr>\n",
       "      <th>6596</th>\n",
       "      <td>21</td>\n",
       "      <td>43</td>\n",
       "      <td>11</td>\n",
       "      <td>23</td>\n",
       "      <td>583.000000</td>\n",
       "      <td>2169.0</td>\n",
       "      <td>18.218693</td>\n",
       "      <td>32.863587</td>\n",
       "      <td>0.602041</td>\n",
       "      <td>67</td>\n",
       "      <td>0.612245</td>\n",
       "    </tr>\n",
       "    <tr>\n",
       "      <th>17012</th>\n",
       "      <td>1</td>\n",
       "      <td>0</td>\n",
       "      <td>6</td>\n",
       "      <td>0</td>\n",
       "      <td>10.251818</td>\n",
       "      <td>0.0</td>\n",
       "      <td>1.427168</td>\n",
       "      <td>0.000000</td>\n",
       "      <td>0.000000</td>\n",
       "      <td>6</td>\n",
       "      <td>0.140609</td>\n",
       "    </tr>\n",
       "    <tr>\n",
       "      <th>2004</th>\n",
       "      <td>8</td>\n",
       "      <td>8</td>\n",
       "      <td>18</td>\n",
       "      <td>22</td>\n",
       "      <td>297.000000</td>\n",
       "      <td>112.0</td>\n",
       "      <td>11.423033</td>\n",
       "      <td>3.733321</td>\n",
       "      <td>0.000000</td>\n",
       "      <td>30</td>\n",
       "      <td>0.250000</td>\n",
       "    </tr>\n",
       "    <tr>\n",
       "      <th>5880</th>\n",
       "      <td>99</td>\n",
       "      <td>87</td>\n",
       "      <td>107</td>\n",
       "      <td>45</td>\n",
       "      <td>12604.000000</td>\n",
       "      <td>4102.0</td>\n",
       "      <td>61.184436</td>\n",
       "      <td>31.075734</td>\n",
       "      <td>0.899408</td>\n",
       "      <td>214</td>\n",
       "      <td>0.541420</td>\n",
       "    </tr>\n",
       "    <tr>\n",
       "      <th>...</th>\n",
       "      <td>...</td>\n",
       "      <td>...</td>\n",
       "      <td>...</td>\n",
       "      <td>...</td>\n",
       "      <td>...</td>\n",
       "      <td>...</td>\n",
       "      <td>...</td>\n",
       "      <td>...</td>\n",
       "      <td>...</td>\n",
       "      <td>...</td>\n",
       "      <td>...</td>\n",
       "    </tr>\n",
       "    <tr>\n",
       "      <th>1434</th>\n",
       "      <td>39</td>\n",
       "      <td>21</td>\n",
       "      <td>15</td>\n",
       "      <td>23</td>\n",
       "      <td>1742.000000</td>\n",
       "      <td>801.0</td>\n",
       "      <td>32.259200</td>\n",
       "      <td>18.204504</td>\n",
       "      <td>0.806122</td>\n",
       "      <td>60</td>\n",
       "      <td>0.591837</td>\n",
       "    </tr>\n",
       "    <tr>\n",
       "      <th>4792</th>\n",
       "      <td>1</td>\n",
       "      <td>1</td>\n",
       "      <td>0</td>\n",
       "      <td>3</td>\n",
       "      <td>11.000000</td>\n",
       "      <td>29.0</td>\n",
       "      <td>10.998900</td>\n",
       "      <td>7.249819</td>\n",
       "      <td>0.000000</td>\n",
       "      <td>5</td>\n",
       "      <td>0.400000</td>\n",
       "    </tr>\n",
       "    <tr>\n",
       "      <th>13665</th>\n",
       "      <td>5</td>\n",
       "      <td>0</td>\n",
       "      <td>8</td>\n",
       "      <td>0</td>\n",
       "      <td>111.730160</td>\n",
       "      <td>0.0</td>\n",
       "      <td>8.287364</td>\n",
       "      <td>0.000000</td>\n",
       "      <td>0.000000</td>\n",
       "      <td>10</td>\n",
       "      <td>0.328450</td>\n",
       "    </tr>\n",
       "    <tr>\n",
       "      <th>8490</th>\n",
       "      <td>38</td>\n",
       "      <td>23</td>\n",
       "      <td>28</td>\n",
       "      <td>10</td>\n",
       "      <td>7669.000000</td>\n",
       "      <td>2239.0</td>\n",
       "      <td>116.196794</td>\n",
       "      <td>67.848279</td>\n",
       "      <td>0.888889</td>\n",
       "      <td>71</td>\n",
       "      <td>0.545455</td>\n",
       "    </tr>\n",
       "    <tr>\n",
       "      <th>3330</th>\n",
       "      <td>8</td>\n",
       "      <td>20</td>\n",
       "      <td>5</td>\n",
       "      <td>33</td>\n",
       "      <td>463.000000</td>\n",
       "      <td>865.0</td>\n",
       "      <td>35.615111</td>\n",
       "      <td>16.320724</td>\n",
       "      <td>0.000000</td>\n",
       "      <td>46</td>\n",
       "      <td>0.378788</td>\n",
       "    </tr>\n",
       "  </tbody>\n",
       "</table>\n",
       "<p>15289 rows × 11 columns</p>\n",
       "</div>"
      ],
      "text/plain": [
       "       call_to  call_in  call_to_miss  call_in_miss  duration_call_to  \\\n",
       "1628         1        2             0             0         12.000000   \n",
       "6596        21       43            11            23        583.000000   \n",
       "17012        1        0             6             0         10.251818   \n",
       "2004         8        8            18            22        297.000000   \n",
       "5880        99       87           107            45      12604.000000   \n",
       "...        ...      ...           ...           ...               ...   \n",
       "1434        39       21            15            23       1742.000000   \n",
       "4792         1        1             0             3         11.000000   \n",
       "13665        5        0             8             0        111.730160   \n",
       "8490        38       23            28            10       7669.000000   \n",
       "3330         8       20             5            33        463.000000   \n",
       "\n",
       "       duration_call_in  avg_duration_call_to  avg_duration_call_in  \\\n",
       "1628                2.0             11.998800              0.999950   \n",
       "6596             2169.0             18.218693             32.863587   \n",
       "17012               0.0              1.427168              0.000000   \n",
       "2004              112.0             11.423033              3.733321   \n",
       "5880             4102.0             61.184436             31.075734   \n",
       "...                 ...                   ...                   ...   \n",
       "1434              801.0             32.259200             18.204504   \n",
       "4792               29.0             10.998900              7.249819   \n",
       "13665               0.0              8.287364              0.000000   \n",
       "8490             2239.0            116.196794             67.848279   \n",
       "3330              865.0             35.615111             16.320724   \n",
       "\n",
       "       avg_in_contact  in_hour  avg_success  \n",
       "1628         1.000000        1     0.333333  \n",
       "6596         0.602041       67     0.612245  \n",
       "17012        0.000000        6     0.140609  \n",
       "2004         0.000000       30     0.250000  \n",
       "5880         0.899408      214     0.541420  \n",
       "...               ...      ...          ...  \n",
       "1434         0.806122       60     0.591837  \n",
       "4792         0.000000        5     0.400000  \n",
       "13665        0.000000       10     0.328450  \n",
       "8490         0.888889       71     0.545455  \n",
       "3330         0.000000       46     0.378788  \n",
       "\n",
       "[15289 rows x 11 columns]"
      ]
     },
     "execution_count": 17,
     "metadata": {},
     "output_type": "execute_result"
    }
   ],
   "source": [
    "X_train"
   ]
  },
  {
   "cell_type": "code",
   "execution_count": 18,
   "metadata": {},
   "outputs": [],
   "source": [
    "import tensorflow as tf\n",
    "from tensorflow.keras import Sequential\n",
    "from tensorflow.keras.layers import Dense"
   ]
  },
  {
   "cell_type": "code",
   "execution_count": 19,
   "metadata": {},
   "outputs": [],
   "source": [
    "number_of_classes=3\n",
    "# y_train = tf.keras.utils.to_categorical(y_train, number_of_classes)\n",
    "# y_test = tf.keras.utils.to_categorical(y_test, number_of_classes)"
   ]
  },
  {
   "cell_type": "code",
   "execution_count": 20,
   "metadata": {},
   "outputs": [
    {
     "name": "stdout",
     "output_type": "stream",
     "text": [
      "Model: \"sequential\"\n",
      "_________________________________________________________________\n",
      "Layer (type)                 Output Shape              Param #   \n",
      "=================================================================\n",
      "dense (Dense)                (None, 50)                600       \n",
      "_________________________________________________________________\n",
      "dropout (Dropout)            (None, 50)                0         \n",
      "_________________________________________________________________\n",
      "batch_normalization (BatchNo (None, 50)                200       \n",
      "_________________________________________________________________\n",
      "dense_1 (Dense)              (None, 25)                1275      \n",
      "_________________________________________________________________\n",
      "dropout_1 (Dropout)          (None, 25)                0         \n",
      "_________________________________________________________________\n",
      "batch_normalization_1 (Batch (None, 25)                100       \n",
      "_________________________________________________________________\n",
      "dense_2 (Dense)              (None, 3)                 78        \n",
      "=================================================================\n",
      "Total params: 2,253\n",
      "Trainable params: 2,103\n",
      "Non-trainable params: 150\n",
      "_________________________________________________________________\n"
     ]
    }
   ],
   "source": [
    "from tensorflow import keras\n",
    "from tensorflow.keras import layers\n",
    "\n",
    "model = keras.Sequential([\n",
    "    layers.Dense(50, activation='relu', input_shape=[X_train.shape[1]]),\n",
    "    layers.Dropout(0.3),\n",
    "    layers.BatchNormalization(),\n",
    "    layers.Dense(25, activation='relu'),\n",
    "    layers.Dropout(0.3),\n",
    "#     layers.BatchNormalization(),\n",
    "#     layers.Dense(10, activation='relu'),\n",
    "#     layers.Dropout(0.3),\n",
    "    layers.BatchNormalization(),\n",
    "    \n",
    "    layers.Dense(3, activation='softmax')\n",
    "])\n",
    "model.summary()"
   ]
  },
  {
   "cell_type": "code",
   "execution_count": 21,
   "metadata": {},
   "outputs": [],
   "source": [
    "tf.keras.optimizers.Adam(\n",
    "    learning_rate=0.005, beta_1=0.9, beta_2=0.999, epsilon=1e-010, amsgrad=False,\n",
    "    name='adam'\n",
    ")\n",
    "model.compile(loss='categorical_crossentropy', optimizer='adam', metrics=['categorical_accuracy'])"
   ]
  },
  {
   "cell_type": "code",
   "execution_count": 22,
   "metadata": {},
   "outputs": [
    {
     "name": "stdout",
     "output_type": "stream",
     "text": [
      "Epoch 1/300\n"
     ]
    },
    {
     "ename": "ValueError",
     "evalue": "in user code:\n\n    C:\\ProgramData\\Anaconda3\\lib\\site-packages\\tensorflow\\python\\keras\\engine\\training.py:805 train_function  *\n        return step_function(self, iterator)\n    C:\\ProgramData\\Anaconda3\\lib\\site-packages\\tensorflow\\python\\keras\\engine\\training.py:795 step_function  **\n        outputs = model.distribute_strategy.run(run_step, args=(data,))\n    C:\\ProgramData\\Anaconda3\\lib\\site-packages\\tensorflow\\python\\distribute\\distribute_lib.py:1259 run\n        return self._extended.call_for_each_replica(fn, args=args, kwargs=kwargs)\n    C:\\ProgramData\\Anaconda3\\lib\\site-packages\\tensorflow\\python\\distribute\\distribute_lib.py:2730 call_for_each_replica\n        return self._call_for_each_replica(fn, args, kwargs)\n    C:\\ProgramData\\Anaconda3\\lib\\site-packages\\tensorflow\\python\\distribute\\distribute_lib.py:3417 _call_for_each_replica\n        return fn(*args, **kwargs)\n    C:\\ProgramData\\Anaconda3\\lib\\site-packages\\tensorflow\\python\\keras\\engine\\training.py:788 run_step  **\n        outputs = model.train_step(data)\n    C:\\ProgramData\\Anaconda3\\lib\\site-packages\\tensorflow\\python\\keras\\engine\\training.py:755 train_step\n        loss = self.compiled_loss(\n    C:\\ProgramData\\Anaconda3\\lib\\site-packages\\tensorflow\\python\\keras\\engine\\compile_utils.py:203 __call__\n        loss_value = loss_obj(y_t, y_p, sample_weight=sw)\n    C:\\ProgramData\\Anaconda3\\lib\\site-packages\\tensorflow\\python\\keras\\losses.py:152 __call__\n        losses = call_fn(y_true, y_pred)\n    C:\\ProgramData\\Anaconda3\\lib\\site-packages\\tensorflow\\python\\keras\\losses.py:256 call  **\n        return ag_fn(y_true, y_pred, **self._fn_kwargs)\n    C:\\ProgramData\\Anaconda3\\lib\\site-packages\\tensorflow\\python\\util\\dispatch.py:201 wrapper\n        return target(*args, **kwargs)\n    C:\\ProgramData\\Anaconda3\\lib\\site-packages\\tensorflow\\python\\keras\\losses.py:1537 categorical_crossentropy\n        return K.categorical_crossentropy(y_true, y_pred, from_logits=from_logits)\n    C:\\ProgramData\\Anaconda3\\lib\\site-packages\\tensorflow\\python\\util\\dispatch.py:201 wrapper\n        return target(*args, **kwargs)\n    C:\\ProgramData\\Anaconda3\\lib\\site-packages\\tensorflow\\python\\keras\\backend.py:4833 categorical_crossentropy\n        target.shape.assert_is_compatible_with(output.shape)\n    C:\\ProgramData\\Anaconda3\\lib\\site-packages\\tensorflow\\python\\framework\\tensor_shape.py:1134 assert_is_compatible_with\n        raise ValueError(\"Shapes %s and %s are incompatible\" % (self, other))\n\n    ValueError: Shapes (None, 1) and (None, 3) are incompatible\n",
     "output_type": "error",
     "traceback": [
      "\u001b[1;31m---------------------------------------------------------------------------\u001b[0m",
      "\u001b[1;31mValueError\u001b[0m                                Traceback (most recent call last)",
      "\u001b[1;32m<ipython-input-22-5b89ca656719>\u001b[0m in \u001b[0;36m<module>\u001b[1;34m\u001b[0m\n\u001b[1;32m----> 1\u001b[1;33m \u001b[0mmodel\u001b[0m\u001b[1;33m.\u001b[0m\u001b[0mfit\u001b[0m\u001b[1;33m(\u001b[0m\u001b[0mX_train\u001b[0m\u001b[1;33m,\u001b[0m \u001b[0my_train\u001b[0m\u001b[1;33m,\u001b[0m \u001b[0mepochs\u001b[0m\u001b[1;33m=\u001b[0m\u001b[1;36m300\u001b[0m\u001b[1;33m,\u001b[0m \u001b[0mbatch_size\u001b[0m\u001b[1;33m=\u001b[0m\u001b[1;36m256\u001b[0m\u001b[1;33m)\u001b[0m\u001b[1;33m\u001b[0m\u001b[1;33m\u001b[0m\u001b[0m\n\u001b[0m",
      "\u001b[1;32mC:\\ProgramData\\Anaconda3\\lib\\site-packages\\tensorflow\\python\\keras\\engine\\training.py\u001b[0m in \u001b[0;36mfit\u001b[1;34m(self, x, y, batch_size, epochs, verbose, callbacks, validation_split, validation_data, shuffle, class_weight, sample_weight, initial_epoch, steps_per_epoch, validation_steps, validation_batch_size, validation_freq, max_queue_size, workers, use_multiprocessing)\u001b[0m\n\u001b[0;32m   1098\u001b[0m                 _r=1):\n\u001b[0;32m   1099\u001b[0m               \u001b[0mcallbacks\u001b[0m\u001b[1;33m.\u001b[0m\u001b[0mon_train_batch_begin\u001b[0m\u001b[1;33m(\u001b[0m\u001b[0mstep\u001b[0m\u001b[1;33m)\u001b[0m\u001b[1;33m\u001b[0m\u001b[1;33m\u001b[0m\u001b[0m\n\u001b[1;32m-> 1100\u001b[1;33m               \u001b[0mtmp_logs\u001b[0m \u001b[1;33m=\u001b[0m \u001b[0mself\u001b[0m\u001b[1;33m.\u001b[0m\u001b[0mtrain_function\u001b[0m\u001b[1;33m(\u001b[0m\u001b[0miterator\u001b[0m\u001b[1;33m)\u001b[0m\u001b[1;33m\u001b[0m\u001b[1;33m\u001b[0m\u001b[0m\n\u001b[0m\u001b[0;32m   1101\u001b[0m               \u001b[1;32mif\u001b[0m \u001b[0mdata_handler\u001b[0m\u001b[1;33m.\u001b[0m\u001b[0mshould_sync\u001b[0m\u001b[1;33m:\u001b[0m\u001b[1;33m\u001b[0m\u001b[1;33m\u001b[0m\u001b[0m\n\u001b[0;32m   1102\u001b[0m                 \u001b[0mcontext\u001b[0m\u001b[1;33m.\u001b[0m\u001b[0masync_wait\u001b[0m\u001b[1;33m(\u001b[0m\u001b[1;33m)\u001b[0m\u001b[1;33m\u001b[0m\u001b[1;33m\u001b[0m\u001b[0m\n",
      "\u001b[1;32mC:\\ProgramData\\Anaconda3\\lib\\site-packages\\tensorflow\\python\\eager\\def_function.py\u001b[0m in \u001b[0;36m__call__\u001b[1;34m(self, *args, **kwds)\u001b[0m\n\u001b[0;32m    826\u001b[0m     \u001b[0mtracing_count\u001b[0m \u001b[1;33m=\u001b[0m \u001b[0mself\u001b[0m\u001b[1;33m.\u001b[0m\u001b[0mexperimental_get_tracing_count\u001b[0m\u001b[1;33m(\u001b[0m\u001b[1;33m)\u001b[0m\u001b[1;33m\u001b[0m\u001b[1;33m\u001b[0m\u001b[0m\n\u001b[0;32m    827\u001b[0m     \u001b[1;32mwith\u001b[0m \u001b[0mtrace\u001b[0m\u001b[1;33m.\u001b[0m\u001b[0mTrace\u001b[0m\u001b[1;33m(\u001b[0m\u001b[0mself\u001b[0m\u001b[1;33m.\u001b[0m\u001b[0m_name\u001b[0m\u001b[1;33m)\u001b[0m \u001b[1;32mas\u001b[0m \u001b[0mtm\u001b[0m\u001b[1;33m:\u001b[0m\u001b[1;33m\u001b[0m\u001b[1;33m\u001b[0m\u001b[0m\n\u001b[1;32m--> 828\u001b[1;33m       \u001b[0mresult\u001b[0m \u001b[1;33m=\u001b[0m \u001b[0mself\u001b[0m\u001b[1;33m.\u001b[0m\u001b[0m_call\u001b[0m\u001b[1;33m(\u001b[0m\u001b[1;33m*\u001b[0m\u001b[0margs\u001b[0m\u001b[1;33m,\u001b[0m \u001b[1;33m**\u001b[0m\u001b[0mkwds\u001b[0m\u001b[1;33m)\u001b[0m\u001b[1;33m\u001b[0m\u001b[1;33m\u001b[0m\u001b[0m\n\u001b[0m\u001b[0;32m    829\u001b[0m       \u001b[0mcompiler\u001b[0m \u001b[1;33m=\u001b[0m \u001b[1;34m\"xla\"\u001b[0m \u001b[1;32mif\u001b[0m \u001b[0mself\u001b[0m\u001b[1;33m.\u001b[0m\u001b[0m_experimental_compile\u001b[0m \u001b[1;32melse\u001b[0m \u001b[1;34m\"nonXla\"\u001b[0m\u001b[1;33m\u001b[0m\u001b[1;33m\u001b[0m\u001b[0m\n\u001b[0;32m    830\u001b[0m       \u001b[0mnew_tracing_count\u001b[0m \u001b[1;33m=\u001b[0m \u001b[0mself\u001b[0m\u001b[1;33m.\u001b[0m\u001b[0mexperimental_get_tracing_count\u001b[0m\u001b[1;33m(\u001b[0m\u001b[1;33m)\u001b[0m\u001b[1;33m\u001b[0m\u001b[1;33m\u001b[0m\u001b[0m\n",
      "\u001b[1;32mC:\\ProgramData\\Anaconda3\\lib\\site-packages\\tensorflow\\python\\eager\\def_function.py\u001b[0m in \u001b[0;36m_call\u001b[1;34m(self, *args, **kwds)\u001b[0m\n\u001b[0;32m    869\u001b[0m       \u001b[1;31m# This is the first call of __call__, so we have to initialize.\u001b[0m\u001b[1;33m\u001b[0m\u001b[1;33m\u001b[0m\u001b[1;33m\u001b[0m\u001b[0m\n\u001b[0;32m    870\u001b[0m       \u001b[0minitializers\u001b[0m \u001b[1;33m=\u001b[0m \u001b[1;33m[\u001b[0m\u001b[1;33m]\u001b[0m\u001b[1;33m\u001b[0m\u001b[1;33m\u001b[0m\u001b[0m\n\u001b[1;32m--> 871\u001b[1;33m       \u001b[0mself\u001b[0m\u001b[1;33m.\u001b[0m\u001b[0m_initialize\u001b[0m\u001b[1;33m(\u001b[0m\u001b[0margs\u001b[0m\u001b[1;33m,\u001b[0m \u001b[0mkwds\u001b[0m\u001b[1;33m,\u001b[0m \u001b[0madd_initializers_to\u001b[0m\u001b[1;33m=\u001b[0m\u001b[0minitializers\u001b[0m\u001b[1;33m)\u001b[0m\u001b[1;33m\u001b[0m\u001b[1;33m\u001b[0m\u001b[0m\n\u001b[0m\u001b[0;32m    872\u001b[0m     \u001b[1;32mfinally\u001b[0m\u001b[1;33m:\u001b[0m\u001b[1;33m\u001b[0m\u001b[1;33m\u001b[0m\u001b[0m\n\u001b[0;32m    873\u001b[0m       \u001b[1;31m# At this point we know that the initialization is complete (or less\u001b[0m\u001b[1;33m\u001b[0m\u001b[1;33m\u001b[0m\u001b[1;33m\u001b[0m\u001b[0m\n",
      "\u001b[1;32mC:\\ProgramData\\Anaconda3\\lib\\site-packages\\tensorflow\\python\\eager\\def_function.py\u001b[0m in \u001b[0;36m_initialize\u001b[1;34m(self, args, kwds, add_initializers_to)\u001b[0m\n\u001b[0;32m    723\u001b[0m     \u001b[0mself\u001b[0m\u001b[1;33m.\u001b[0m\u001b[0m_graph_deleter\u001b[0m \u001b[1;33m=\u001b[0m \u001b[0mFunctionDeleter\u001b[0m\u001b[1;33m(\u001b[0m\u001b[0mself\u001b[0m\u001b[1;33m.\u001b[0m\u001b[0m_lifted_initializer_graph\u001b[0m\u001b[1;33m)\u001b[0m\u001b[1;33m\u001b[0m\u001b[1;33m\u001b[0m\u001b[0m\n\u001b[0;32m    724\u001b[0m     self._concrete_stateful_fn = (\n\u001b[1;32m--> 725\u001b[1;33m         self._stateful_fn._get_concrete_function_internal_garbage_collected(  # pylint: disable=protected-access\n\u001b[0m\u001b[0;32m    726\u001b[0m             *args, **kwds))\n\u001b[0;32m    727\u001b[0m \u001b[1;33m\u001b[0m\u001b[0m\n",
      "\u001b[1;32mC:\\ProgramData\\Anaconda3\\lib\\site-packages\\tensorflow\\python\\eager\\function.py\u001b[0m in \u001b[0;36m_get_concrete_function_internal_garbage_collected\u001b[1;34m(self, *args, **kwargs)\u001b[0m\n\u001b[0;32m   2967\u001b[0m       \u001b[0margs\u001b[0m\u001b[1;33m,\u001b[0m \u001b[0mkwargs\u001b[0m \u001b[1;33m=\u001b[0m \u001b[1;32mNone\u001b[0m\u001b[1;33m,\u001b[0m \u001b[1;32mNone\u001b[0m\u001b[1;33m\u001b[0m\u001b[1;33m\u001b[0m\u001b[0m\n\u001b[0;32m   2968\u001b[0m     \u001b[1;32mwith\u001b[0m \u001b[0mself\u001b[0m\u001b[1;33m.\u001b[0m\u001b[0m_lock\u001b[0m\u001b[1;33m:\u001b[0m\u001b[1;33m\u001b[0m\u001b[1;33m\u001b[0m\u001b[0m\n\u001b[1;32m-> 2969\u001b[1;33m       \u001b[0mgraph_function\u001b[0m\u001b[1;33m,\u001b[0m \u001b[0m_\u001b[0m \u001b[1;33m=\u001b[0m \u001b[0mself\u001b[0m\u001b[1;33m.\u001b[0m\u001b[0m_maybe_define_function\u001b[0m\u001b[1;33m(\u001b[0m\u001b[0margs\u001b[0m\u001b[1;33m,\u001b[0m \u001b[0mkwargs\u001b[0m\u001b[1;33m)\u001b[0m\u001b[1;33m\u001b[0m\u001b[1;33m\u001b[0m\u001b[0m\n\u001b[0m\u001b[0;32m   2970\u001b[0m     \u001b[1;32mreturn\u001b[0m \u001b[0mgraph_function\u001b[0m\u001b[1;33m\u001b[0m\u001b[1;33m\u001b[0m\u001b[0m\n\u001b[0;32m   2971\u001b[0m \u001b[1;33m\u001b[0m\u001b[0m\n",
      "\u001b[1;32mC:\\ProgramData\\Anaconda3\\lib\\site-packages\\tensorflow\\python\\eager\\function.py\u001b[0m in \u001b[0;36m_maybe_define_function\u001b[1;34m(self, args, kwargs)\u001b[0m\n\u001b[0;32m   3359\u001b[0m \u001b[1;33m\u001b[0m\u001b[0m\n\u001b[0;32m   3360\u001b[0m           \u001b[0mself\u001b[0m\u001b[1;33m.\u001b[0m\u001b[0m_function_cache\u001b[0m\u001b[1;33m.\u001b[0m\u001b[0mmissed\u001b[0m\u001b[1;33m.\u001b[0m\u001b[0madd\u001b[0m\u001b[1;33m(\u001b[0m\u001b[0mcall_context_key\u001b[0m\u001b[1;33m)\u001b[0m\u001b[1;33m\u001b[0m\u001b[1;33m\u001b[0m\u001b[0m\n\u001b[1;32m-> 3361\u001b[1;33m           \u001b[0mgraph_function\u001b[0m \u001b[1;33m=\u001b[0m \u001b[0mself\u001b[0m\u001b[1;33m.\u001b[0m\u001b[0m_create_graph_function\u001b[0m\u001b[1;33m(\u001b[0m\u001b[0margs\u001b[0m\u001b[1;33m,\u001b[0m \u001b[0mkwargs\u001b[0m\u001b[1;33m)\u001b[0m\u001b[1;33m\u001b[0m\u001b[1;33m\u001b[0m\u001b[0m\n\u001b[0m\u001b[0;32m   3362\u001b[0m           \u001b[0mself\u001b[0m\u001b[1;33m.\u001b[0m\u001b[0m_function_cache\u001b[0m\u001b[1;33m.\u001b[0m\u001b[0mprimary\u001b[0m\u001b[1;33m[\u001b[0m\u001b[0mcache_key\u001b[0m\u001b[1;33m]\u001b[0m \u001b[1;33m=\u001b[0m \u001b[0mgraph_function\u001b[0m\u001b[1;33m\u001b[0m\u001b[1;33m\u001b[0m\u001b[0m\n\u001b[0;32m   3363\u001b[0m \u001b[1;33m\u001b[0m\u001b[0m\n",
      "\u001b[1;32mC:\\ProgramData\\Anaconda3\\lib\\site-packages\\tensorflow\\python\\eager\\function.py\u001b[0m in \u001b[0;36m_create_graph_function\u001b[1;34m(self, args, kwargs, override_flat_arg_shapes)\u001b[0m\n\u001b[0;32m   3194\u001b[0m     \u001b[0marg_names\u001b[0m \u001b[1;33m=\u001b[0m \u001b[0mbase_arg_names\u001b[0m \u001b[1;33m+\u001b[0m \u001b[0mmissing_arg_names\u001b[0m\u001b[1;33m\u001b[0m\u001b[1;33m\u001b[0m\u001b[0m\n\u001b[0;32m   3195\u001b[0m     graph_function = ConcreteFunction(\n\u001b[1;32m-> 3196\u001b[1;33m         func_graph_module.func_graph_from_py_func(\n\u001b[0m\u001b[0;32m   3197\u001b[0m             \u001b[0mself\u001b[0m\u001b[1;33m.\u001b[0m\u001b[0m_name\u001b[0m\u001b[1;33m,\u001b[0m\u001b[1;33m\u001b[0m\u001b[1;33m\u001b[0m\u001b[0m\n\u001b[0;32m   3198\u001b[0m             \u001b[0mself\u001b[0m\u001b[1;33m.\u001b[0m\u001b[0m_python_function\u001b[0m\u001b[1;33m,\u001b[0m\u001b[1;33m\u001b[0m\u001b[1;33m\u001b[0m\u001b[0m\n",
      "\u001b[1;32mC:\\ProgramData\\Anaconda3\\lib\\site-packages\\tensorflow\\python\\framework\\func_graph.py\u001b[0m in \u001b[0;36mfunc_graph_from_py_func\u001b[1;34m(name, python_func, args, kwargs, signature, func_graph, autograph, autograph_options, add_control_dependencies, arg_names, op_return_value, collections, capture_by_value, override_flat_arg_shapes)\u001b[0m\n\u001b[0;32m    988\u001b[0m         \u001b[0m_\u001b[0m\u001b[1;33m,\u001b[0m \u001b[0moriginal_func\u001b[0m \u001b[1;33m=\u001b[0m \u001b[0mtf_decorator\u001b[0m\u001b[1;33m.\u001b[0m\u001b[0munwrap\u001b[0m\u001b[1;33m(\u001b[0m\u001b[0mpython_func\u001b[0m\u001b[1;33m)\u001b[0m\u001b[1;33m\u001b[0m\u001b[1;33m\u001b[0m\u001b[0m\n\u001b[0;32m    989\u001b[0m \u001b[1;33m\u001b[0m\u001b[0m\n\u001b[1;32m--> 990\u001b[1;33m       \u001b[0mfunc_outputs\u001b[0m \u001b[1;33m=\u001b[0m \u001b[0mpython_func\u001b[0m\u001b[1;33m(\u001b[0m\u001b[1;33m*\u001b[0m\u001b[0mfunc_args\u001b[0m\u001b[1;33m,\u001b[0m \u001b[1;33m**\u001b[0m\u001b[0mfunc_kwargs\u001b[0m\u001b[1;33m)\u001b[0m\u001b[1;33m\u001b[0m\u001b[1;33m\u001b[0m\u001b[0m\n\u001b[0m\u001b[0;32m    991\u001b[0m \u001b[1;33m\u001b[0m\u001b[0m\n\u001b[0;32m    992\u001b[0m       \u001b[1;31m# invariant: `func_outputs` contains only Tensors, CompositeTensors,\u001b[0m\u001b[1;33m\u001b[0m\u001b[1;33m\u001b[0m\u001b[1;33m\u001b[0m\u001b[0m\n",
      "\u001b[1;32mC:\\ProgramData\\Anaconda3\\lib\\site-packages\\tensorflow\\python\\eager\\def_function.py\u001b[0m in \u001b[0;36mwrapped_fn\u001b[1;34m(*args, **kwds)\u001b[0m\n\u001b[0;32m    632\u001b[0m             \u001b[0mxla_context\u001b[0m\u001b[1;33m.\u001b[0m\u001b[0mExit\u001b[0m\u001b[1;33m(\u001b[0m\u001b[1;33m)\u001b[0m\u001b[1;33m\u001b[0m\u001b[1;33m\u001b[0m\u001b[0m\n\u001b[0;32m    633\u001b[0m         \u001b[1;32melse\u001b[0m\u001b[1;33m:\u001b[0m\u001b[1;33m\u001b[0m\u001b[1;33m\u001b[0m\u001b[0m\n\u001b[1;32m--> 634\u001b[1;33m           \u001b[0mout\u001b[0m \u001b[1;33m=\u001b[0m \u001b[0mweak_wrapped_fn\u001b[0m\u001b[1;33m(\u001b[0m\u001b[1;33m)\u001b[0m\u001b[1;33m.\u001b[0m\u001b[0m__wrapped__\u001b[0m\u001b[1;33m(\u001b[0m\u001b[1;33m*\u001b[0m\u001b[0margs\u001b[0m\u001b[1;33m,\u001b[0m \u001b[1;33m**\u001b[0m\u001b[0mkwds\u001b[0m\u001b[1;33m)\u001b[0m\u001b[1;33m\u001b[0m\u001b[1;33m\u001b[0m\u001b[0m\n\u001b[0m\u001b[0;32m    635\u001b[0m         \u001b[1;32mreturn\u001b[0m \u001b[0mout\u001b[0m\u001b[1;33m\u001b[0m\u001b[1;33m\u001b[0m\u001b[0m\n\u001b[0;32m    636\u001b[0m \u001b[1;33m\u001b[0m\u001b[0m\n",
      "\u001b[1;32mC:\\ProgramData\\Anaconda3\\lib\\site-packages\\tensorflow\\python\\framework\\func_graph.py\u001b[0m in \u001b[0;36mwrapper\u001b[1;34m(*args, **kwargs)\u001b[0m\n\u001b[0;32m    975\u001b[0m           \u001b[1;32mexcept\u001b[0m \u001b[0mException\u001b[0m \u001b[1;32mas\u001b[0m \u001b[0me\u001b[0m\u001b[1;33m:\u001b[0m  \u001b[1;31m# pylint:disable=broad-except\u001b[0m\u001b[1;33m\u001b[0m\u001b[1;33m\u001b[0m\u001b[0m\n\u001b[0;32m    976\u001b[0m             \u001b[1;32mif\u001b[0m \u001b[0mhasattr\u001b[0m\u001b[1;33m(\u001b[0m\u001b[0me\u001b[0m\u001b[1;33m,\u001b[0m \u001b[1;34m\"ag_error_metadata\"\u001b[0m\u001b[1;33m)\u001b[0m\u001b[1;33m:\u001b[0m\u001b[1;33m\u001b[0m\u001b[1;33m\u001b[0m\u001b[0m\n\u001b[1;32m--> 977\u001b[1;33m               \u001b[1;32mraise\u001b[0m \u001b[0me\u001b[0m\u001b[1;33m.\u001b[0m\u001b[0mag_error_metadata\u001b[0m\u001b[1;33m.\u001b[0m\u001b[0mto_exception\u001b[0m\u001b[1;33m(\u001b[0m\u001b[0me\u001b[0m\u001b[1;33m)\u001b[0m\u001b[1;33m\u001b[0m\u001b[1;33m\u001b[0m\u001b[0m\n\u001b[0m\u001b[0;32m    978\u001b[0m             \u001b[1;32melse\u001b[0m\u001b[1;33m:\u001b[0m\u001b[1;33m\u001b[0m\u001b[1;33m\u001b[0m\u001b[0m\n\u001b[0;32m    979\u001b[0m               \u001b[1;32mraise\u001b[0m\u001b[1;33m\u001b[0m\u001b[1;33m\u001b[0m\u001b[0m\n",
      "\u001b[1;31mValueError\u001b[0m: in user code:\n\n    C:\\ProgramData\\Anaconda3\\lib\\site-packages\\tensorflow\\python\\keras\\engine\\training.py:805 train_function  *\n        return step_function(self, iterator)\n    C:\\ProgramData\\Anaconda3\\lib\\site-packages\\tensorflow\\python\\keras\\engine\\training.py:795 step_function  **\n        outputs = model.distribute_strategy.run(run_step, args=(data,))\n    C:\\ProgramData\\Anaconda3\\lib\\site-packages\\tensorflow\\python\\distribute\\distribute_lib.py:1259 run\n        return self._extended.call_for_each_replica(fn, args=args, kwargs=kwargs)\n    C:\\ProgramData\\Anaconda3\\lib\\site-packages\\tensorflow\\python\\distribute\\distribute_lib.py:2730 call_for_each_replica\n        return self._call_for_each_replica(fn, args, kwargs)\n    C:\\ProgramData\\Anaconda3\\lib\\site-packages\\tensorflow\\python\\distribute\\distribute_lib.py:3417 _call_for_each_replica\n        return fn(*args, **kwargs)\n    C:\\ProgramData\\Anaconda3\\lib\\site-packages\\tensorflow\\python\\keras\\engine\\training.py:788 run_step  **\n        outputs = model.train_step(data)\n    C:\\ProgramData\\Anaconda3\\lib\\site-packages\\tensorflow\\python\\keras\\engine\\training.py:755 train_step\n        loss = self.compiled_loss(\n    C:\\ProgramData\\Anaconda3\\lib\\site-packages\\tensorflow\\python\\keras\\engine\\compile_utils.py:203 __call__\n        loss_value = loss_obj(y_t, y_p, sample_weight=sw)\n    C:\\ProgramData\\Anaconda3\\lib\\site-packages\\tensorflow\\python\\keras\\losses.py:152 __call__\n        losses = call_fn(y_true, y_pred)\n    C:\\ProgramData\\Anaconda3\\lib\\site-packages\\tensorflow\\python\\keras\\losses.py:256 call  **\n        return ag_fn(y_true, y_pred, **self._fn_kwargs)\n    C:\\ProgramData\\Anaconda3\\lib\\site-packages\\tensorflow\\python\\util\\dispatch.py:201 wrapper\n        return target(*args, **kwargs)\n    C:\\ProgramData\\Anaconda3\\lib\\site-packages\\tensorflow\\python\\keras\\losses.py:1537 categorical_crossentropy\n        return K.categorical_crossentropy(y_true, y_pred, from_logits=from_logits)\n    C:\\ProgramData\\Anaconda3\\lib\\site-packages\\tensorflow\\python\\util\\dispatch.py:201 wrapper\n        return target(*args, **kwargs)\n    C:\\ProgramData\\Anaconda3\\lib\\site-packages\\tensorflow\\python\\keras\\backend.py:4833 categorical_crossentropy\n        target.shape.assert_is_compatible_with(output.shape)\n    C:\\ProgramData\\Anaconda3\\lib\\site-packages\\tensorflow\\python\\framework\\tensor_shape.py:1134 assert_is_compatible_with\n        raise ValueError(\"Shapes %s and %s are incompatible\" % (self, other))\n\n    ValueError: Shapes (None, 1) and (None, 3) are incompatible\n"
     ]
    }
   ],
   "source": [
    "model.fit(X_train, y_train, epochs=300, batch_size=256)"
   ]
  },
  {
   "cell_type": "code",
   "execution_count": null,
   "metadata": {},
   "outputs": [],
   "source": [
    "_, accuracy = model.evaluate(X_train, y_train)\n",
    "print('Accuracy: %.2f' % (accuracy*100))"
   ]
  },
  {
   "cell_type": "code",
   "execution_count": null,
   "metadata": {},
   "outputs": [],
   "source": [
    "_, accuracy = model.evaluate(X_test, y_test)\n",
    "print('Accuracy: %.2f' % (accuracy*100))"
   ]
  },
  {
   "cell_type": "code",
   "execution_count": 26,
   "metadata": {},
   "outputs": [
    {
     "name": "stdout",
     "output_type": "stream",
     "text": [
      "Accuracy MLP:  0.652\n",
      "Sum Spam:  18273\n",
      "Sum Member:  16564\n"
     ]
    }
   ],
   "source": [
    "from sklearn.neural_network import MLPClassifier\n",
    "model = MLPClassifier(random_state=1, max_iter=300).fit(X_train, y_train)\n",
    "y_pred_MLP=model.predict(X_test)\n",
    "accuracy_MLP = round(metrics.accuracy_score(y_test,y_pred_MLP),3)\n",
    "# f1_score_MLP = round(metrics.f1_score(y_test,y_pred_MLP),3)\n",
    "# precision_MLP = round(metrics.precision_score(y_test,y_pred_MLP),3)\n",
    "# recall_MLP = round(metrics.recall_score( y_test,y_pred_MLP),3)\n",
    "\n",
    "print(\"Accuracy MLP: \", accuracy_MLP)\n",
    "# print(\"F1 score MLP: \", f1_score_MLP)\n",
    "# print(\"Precision MLP: \", precision_MLP)\n",
    "# print(\"Recall MLP: \", recall_MLP)\n",
    "# print(\"Sum Spam: \", y_pred_MLP.sum())\n",
    "print(\"Sum Spam: \",(y_pred_MLP==2).sum())\n",
    "print(\"Sum Member: \",(y_pred_MLP==0).sum())\n",
    "# perm = PermutationImportance(knn, random_state=1).fit(X_test, y_test)\n",
    "# eli5.show_weights(perm, feature_names = X_test.columns.tolist())"
   ]
  },
  {
   "cell_type": "code",
   "execution_count": null,
   "metadata": {},
   "outputs": [],
   "source": [
    "y_pred_MLP\n"
   ]
  },
  {
   "cell_type": "code",
   "execution_count": null,
   "metadata": {},
   "outputs": [],
   "source": [
    "models = pd.DataFrame({\n",
    "    'Model': ['LogisticRegression', 'KNN', 'LinearSVC', \n",
    "              'Random Forest', 'Naive Bayes','MultiLayer Perceptron'],\n",
    "    'Score': [accuracy_LR, accuracy_KNN, accuracy_SVC, \n",
    "              accuracy_RF,accuracy_NB,accuracy_MLP]\n",
    "              })\n",
    "models.sort_values(by='Score', ascending=False)"
   ]
  },
  {
   "cell_type": "code",
   "execution_count": null,
   "metadata": {},
   "outputs": [],
   "source": []
  },
  {
   "cell_type": "code",
   "execution_count": null,
   "metadata": {},
   "outputs": [],
   "source": [
    "# from tensorflow.keras import layers\n",
    "# import tensorflow_probability as tfp"
   ]
  },
  {
   "cell_type": "code",
   "execution_count": null,
   "metadata": {},
   "outputs": [],
   "source": [
    "# # Define the prior weight distribution as Normal of mean=0 and stddev=1.\n",
    "# # Note that, in this example, the we prior distribution is not trainable,\n",
    "# # as we fix its parameters.\n",
    "# def prior(kernel_size, bias_size, dtype=None):\n",
    "#     n = kernel_size + bias_size\n",
    "#     prior_model = keras.Sequential(\n",
    "#         [\n",
    "#             tfp.layers.DistributionLambda(\n",
    "#                 lambda t: tfp.distributions.MultivariateNormalDiag(\n",
    "#                     loc=tf.zeros(n), scale_diag=tf.ones(n)\n",
    "#                 )\n",
    "#             )\n",
    "#         ]\n",
    "#     )\n",
    "#     return prior_model\n",
    "\n",
    "\n",
    "# # Define variational posterior weight distribution as multivariate Gaussian.\n",
    "# # Note that the learnable parameters for this distribution are the means,\n",
    "# # variances, and covariances.\n",
    "# def posterior(kernel_size, bias_size, dtype=None):\n",
    "#     n = kernel_size + bias_size\n",
    "#     posterior_model = keras.Sequential(\n",
    "#         [\n",
    "#             tfp.layers.VariableLayer(\n",
    "#                 tfp.layers.MultivariateNormalTriL.params_size(n), dtype=dtype\n",
    "#             ),\n",
    "#             tfp.layers.MultivariateNormalTriL(n),\n",
    "#         ]\n",
    "#     )\n",
    "#     return posterior_model"
   ]
  },
  {
   "cell_type": "code",
   "execution_count": null,
   "metadata": {},
   "outputs": [],
   "source": [
    "# train_size=X_train.shape[1]\n",
    "# bnn_model_small = keras.Sequential([\n",
    "#     layers.Dense(12, activation='relu', input_shape=[X_train.shape[1]]),\n",
    "#     tfp.layers.DenseVariational(\n",
    "#             units=12,\n",
    "#             make_prior_fn=prior,\n",
    "#             make_posterior_fn=posterior,\n",
    "#             activation=\"sigmoid\"),\n",
    "#     tfp.layers.DenseVariational(\n",
    "#             units=10,\n",
    "#             make_prior_fn=prior,\n",
    "#             make_posterior_fn=posterior,\n",
    "#             activation=\"sigmoid\"),\n",
    "    \n",
    "    \n",
    "#     layers.Dense(1,activation='sigmoid'),\n",
    "# ])\n",
    "\n"
   ]
  },
  {
   "cell_type": "code",
   "execution_count": null,
   "metadata": {},
   "outputs": [],
   "source": [
    "# bnn_model_small.compile(loss='binary_crossentropy', optimizer='adam', metrics=['binary_accuracy'])"
   ]
  },
  {
   "cell_type": "code",
   "execution_count": null,
   "metadata": {},
   "outputs": [],
   "source": [
    "# bnn_model_small.fit(X_train, y_train, epochs=500, batch_size=256)"
   ]
  },
  {
   "cell_type": "code",
   "execution_count": null,
   "metadata": {},
   "outputs": [],
   "source": [
    "# y_pred_MLP=bnn_model_small.predict(X_test)>0.5\n",
    "\n",
    "# accuracy_MLP = round(metrics.accuracy_score(y_test,y_pred_MLP),3)\n",
    "# f1_score_MLP = round(metrics.f1_score(y_test,y_pred_MLP),3)\n",
    "# precision_MLP = round(metrics.precision_score(y_test,y_pred_MLP),3)\n",
    "# recall_MLP = round(metrics.recall_score( y_test,y_pred_MLP),3)\n",
    "\n",
    "# print(\"Accuracy MLP: \", accuracy_MLP)\n",
    "# print(\"F1 score MLP: \", f1_score_MLP)\n",
    "# print(\"Precision MLP: \", precision_MLP)\n",
    "# print(\"Recall MLP: \", recall_MLP)\n",
    "# print(\"Sum Spam: \", y_pred_MLP.sum())\n",
    "\n",
    "# perm = PermutationImportance(knn, random_state=1).fit(X_test, y_test)\n",
    "# eli5.show_weights(perm, feature_names = X_test.columns.tolist())"
   ]
  },
  {
   "cell_type": "code",
   "execution_count": null,
   "metadata": {},
   "outputs": [],
   "source": [
    "y.sum()"
   ]
  },
  {
   "cell_type": "code",
   "execution_count": null,
   "metadata": {},
   "outputs": [],
   "source": [
    "# from collections import Counter\n",
    "# from sklearn.datasets import make_classification\n",
    "# from imblearn.over_sampling import SVMSMOTE\n",
    "# from matplotlib import pyplot\n",
    "# from numpy import where\n",
    "# oversample = SVMSMOTE()\n",
    "# X, y = oversample.fit_resample(X, y)\n"
   ]
  },
  {
   "cell_type": "code",
   "execution_count": null,
   "metadata": {},
   "outputs": [],
   "source": []
  }
 ],
 "metadata": {
  "kernelspec": {
   "display_name": "Python 3",
   "language": "python",
   "name": "python3"
  },
  "language_info": {
   "codemirror_mode": {
    "name": "ipython",
    "version": 3
   },
   "file_extension": ".py",
   "mimetype": "text/x-python",
   "name": "python",
   "nbconvert_exporter": "python",
   "pygments_lexer": "ipython3",
   "version": "3.8.5"
  }
 },
 "nbformat": 4,
 "nbformat_minor": 4
}
