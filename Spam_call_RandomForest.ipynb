{
 "cells": [
  {
   "cell_type": "code",
   "execution_count": 51,
   "metadata": {},
   "outputs": [],
   "source": [
    "import pandas as pd\n",
    "import numpy as np"
   ]
  },
  {
   "cell_type": "code",
   "execution_count": 2,
   "metadata": {},
   "outputs": [],
   "source": [
    "df=pd.read_csv(\"data_icaller.csv\")"
   ]
  },
  {
   "cell_type": "code",
   "execution_count": 3,
   "metadata": {},
   "outputs": [
    {
     "data": {
      "text/html": [
       "<div>\n",
       "<style scoped>\n",
       "    .dataframe tbody tr th:only-of-type {\n",
       "        vertical-align: middle;\n",
       "    }\n",
       "\n",
       "    .dataframe tbody tr th {\n",
       "        vertical-align: top;\n",
       "    }\n",
       "\n",
       "    .dataframe thead th {\n",
       "        text-align: right;\n",
       "    }\n",
       "</style>\n",
       "<table border=\"1\" class=\"dataframe\">\n",
       "  <thead>\n",
       "    <tr style=\"text-align: right;\">\n",
       "      <th></th>\n",
       "      <th>phone</th>\n",
       "      <th>type</th>\n",
       "      <th>in_contact</th>\n",
       "      <th>duration</th>\n",
       "      <th>call_to</th>\n",
       "      <th>call_in</th>\n",
       "      <th>call_to_miss</th>\n",
       "      <th>call_in_miss</th>\n",
       "      <th>duration_call_to</th>\n",
       "      <th>duration_call_in</th>\n",
       "      <th>duration_call_to_miss</th>\n",
       "      <th>duration_call_in_miss</th>\n",
       "      <th>sum_call</th>\n",
       "      <th>Spam</th>\n",
       "      <th>Unnamed: 14</th>\n",
       "    </tr>\n",
       "  </thead>\n",
       "  <tbody>\n",
       "    <tr>\n",
       "      <td>0</td>\n",
       "      <td>84989082183</td>\n",
       "      <td>270</td>\n",
       "      <td>82</td>\n",
       "      <td>129</td>\n",
       "      <td>4</td>\n",
       "      <td>9</td>\n",
       "      <td>28</td>\n",
       "      <td>41</td>\n",
       "      <td>10</td>\n",
       "      <td>119</td>\n",
       "      <td>0</td>\n",
       "      <td>0</td>\n",
       "      <td>82</td>\n",
       "      <td>1</td>\n",
       "      <td>NaN</td>\n",
       "    </tr>\n",
       "    <tr>\n",
       "      <td>1</td>\n",
       "      <td>8.42E+11</td>\n",
       "      <td>2105</td>\n",
       "      <td>29</td>\n",
       "      <td>42620</td>\n",
       "      <td>485</td>\n",
       "      <td>86</td>\n",
       "      <td>424</td>\n",
       "      <td>44</td>\n",
       "      <td>35170</td>\n",
       "      <td>4811</td>\n",
       "      <td>2639</td>\n",
       "      <td>0</td>\n",
       "      <td>1039</td>\n",
       "      <td>1</td>\n",
       "      <td>NaN</td>\n",
       "    </tr>\n",
       "    <tr>\n",
       "      <td>2</td>\n",
       "      <td>8.43E+11</td>\n",
       "      <td>2019</td>\n",
       "      <td>102</td>\n",
       "      <td>44968</td>\n",
       "      <td>511</td>\n",
       "      <td>214</td>\n",
       "      <td>224</td>\n",
       "      <td>102</td>\n",
       "      <td>27173</td>\n",
       "      <td>16562</td>\n",
       "      <td>1233</td>\n",
       "      <td>0</td>\n",
       "      <td>1051</td>\n",
       "      <td>1</td>\n",
       "      <td>NaN</td>\n",
       "    </tr>\n",
       "    <tr>\n",
       "      <td>3</td>\n",
       "      <td>84965303997</td>\n",
       "      <td>580</td>\n",
       "      <td>77</td>\n",
       "      <td>6106</td>\n",
       "      <td>57</td>\n",
       "      <td>26</td>\n",
       "      <td>85</td>\n",
       "      <td>54</td>\n",
       "      <td>245</td>\n",
       "      <td>5852</td>\n",
       "      <td>9</td>\n",
       "      <td>0</td>\n",
       "      <td>222</td>\n",
       "      <td>1</td>\n",
       "      <td>NaN</td>\n",
       "    </tr>\n",
       "    <tr>\n",
       "      <td>4</td>\n",
       "      <td>84979169738</td>\n",
       "      <td>23</td>\n",
       "      <td>9</td>\n",
       "      <td>455</td>\n",
       "      <td>1</td>\n",
       "      <td>5</td>\n",
       "      <td>0</td>\n",
       "      <td>3</td>\n",
       "      <td>97</td>\n",
       "      <td>358</td>\n",
       "      <td>0</td>\n",
       "      <td>0</td>\n",
       "      <td>9</td>\n",
       "      <td>1</td>\n",
       "      <td>NaN</td>\n",
       "    </tr>\n",
       "  </tbody>\n",
       "</table>\n",
       "</div>"
      ],
      "text/plain": [
       "         phone  type  in_contact  duration  call_to  call_in  call_to_miss  \\\n",
       "0  84989082183   270          82       129        4        9            28   \n",
       "1     8.42E+11  2105          29     42620      485       86           424   \n",
       "2     8.43E+11  2019         102     44968      511      214           224   \n",
       "3  84965303997   580          77      6106       57       26            85   \n",
       "4  84979169738    23           9       455        1        5             0   \n",
       "\n",
       "   call_in_miss  duration_call_to  duration_call_in  duration_call_to_miss  \\\n",
       "0            41                10               119                      0   \n",
       "1            44             35170              4811                   2639   \n",
       "2           102             27173             16562                   1233   \n",
       "3            54               245              5852                      9   \n",
       "4             3                97               358                      0   \n",
       "\n",
       "   duration_call_in_miss  sum_call  Spam  Unnamed: 14  \n",
       "0                      0        82     1          NaN  \n",
       "1                      0      1039     1          NaN  \n",
       "2                      0      1051     1          NaN  \n",
       "3                      0       222     1          NaN  \n",
       "4                      0         9     1          NaN  "
      ]
     },
     "execution_count": 3,
     "metadata": {},
     "output_type": "execute_result"
    }
   ],
   "source": [
    "df.head()"
   ]
  },
  {
   "cell_type": "code",
   "execution_count": 6,
   "metadata": {},
   "outputs": [],
   "source": [
    "df=df.drop([\"phone\",\"duration_call_to\",\"duration_call_in\",\"duration_call_to_miss\",\"duration_call_in_miss\",\"sum_call\"],axis=1)"
   ]
  },
  {
   "cell_type": "code",
   "execution_count": 7,
   "metadata": {},
   "outputs": [
    {
     "data": {
      "text/html": [
       "<div>\n",
       "<style scoped>\n",
       "    .dataframe tbody tr th:only-of-type {\n",
       "        vertical-align: middle;\n",
       "    }\n",
       "\n",
       "    .dataframe tbody tr th {\n",
       "        vertical-align: top;\n",
       "    }\n",
       "\n",
       "    .dataframe thead th {\n",
       "        text-align: right;\n",
       "    }\n",
       "</style>\n",
       "<table border=\"1\" class=\"dataframe\">\n",
       "  <thead>\n",
       "    <tr style=\"text-align: right;\">\n",
       "      <th></th>\n",
       "      <th>type</th>\n",
       "      <th>in_contact</th>\n",
       "      <th>duration</th>\n",
       "      <th>call_to</th>\n",
       "      <th>call_in</th>\n",
       "      <th>call_to_miss</th>\n",
       "      <th>call_in_miss</th>\n",
       "      <th>Spam</th>\n",
       "      <th>Unnamed: 14</th>\n",
       "    </tr>\n",
       "  </thead>\n",
       "  <tbody>\n",
       "    <tr>\n",
       "      <td>0</td>\n",
       "      <td>270</td>\n",
       "      <td>82</td>\n",
       "      <td>129</td>\n",
       "      <td>4</td>\n",
       "      <td>9</td>\n",
       "      <td>28</td>\n",
       "      <td>41</td>\n",
       "      <td>1</td>\n",
       "      <td>NaN</td>\n",
       "    </tr>\n",
       "    <tr>\n",
       "      <td>1</td>\n",
       "      <td>2105</td>\n",
       "      <td>29</td>\n",
       "      <td>42620</td>\n",
       "      <td>485</td>\n",
       "      <td>86</td>\n",
       "      <td>424</td>\n",
       "      <td>44</td>\n",
       "      <td>1</td>\n",
       "      <td>NaN</td>\n",
       "    </tr>\n",
       "    <tr>\n",
       "      <td>2</td>\n",
       "      <td>2019</td>\n",
       "      <td>102</td>\n",
       "      <td>44968</td>\n",
       "      <td>511</td>\n",
       "      <td>214</td>\n",
       "      <td>224</td>\n",
       "      <td>102</td>\n",
       "      <td>1</td>\n",
       "      <td>NaN</td>\n",
       "    </tr>\n",
       "    <tr>\n",
       "      <td>3</td>\n",
       "      <td>580</td>\n",
       "      <td>77</td>\n",
       "      <td>6106</td>\n",
       "      <td>57</td>\n",
       "      <td>26</td>\n",
       "      <td>85</td>\n",
       "      <td>54</td>\n",
       "      <td>1</td>\n",
       "      <td>NaN</td>\n",
       "    </tr>\n",
       "    <tr>\n",
       "      <td>4</td>\n",
       "      <td>23</td>\n",
       "      <td>9</td>\n",
       "      <td>455</td>\n",
       "      <td>1</td>\n",
       "      <td>5</td>\n",
       "      <td>0</td>\n",
       "      <td>3</td>\n",
       "      <td>1</td>\n",
       "      <td>NaN</td>\n",
       "    </tr>\n",
       "  </tbody>\n",
       "</table>\n",
       "</div>"
      ],
      "text/plain": [
       "   type  in_contact  duration  call_to  call_in  call_to_miss  call_in_miss  \\\n",
       "0   270          82       129        4        9            28            41   \n",
       "1  2105          29     42620      485       86           424            44   \n",
       "2  2019         102     44968      511      214           224           102   \n",
       "3   580          77      6106       57       26            85            54   \n",
       "4    23           9       455        1        5             0             3   \n",
       "\n",
       "   Spam  Unnamed: 14  \n",
       "0     1          NaN  \n",
       "1     1          NaN  \n",
       "2     1          NaN  \n",
       "3     1          NaN  \n",
       "4     1          NaN  "
      ]
     },
     "execution_count": 7,
     "metadata": {},
     "output_type": "execute_result"
    }
   ],
   "source": [
    "df.head()"
   ]
  },
  {
   "cell_type": "code",
   "execution_count": 9,
   "metadata": {},
   "outputs": [
    {
     "data": {
      "text/plain": [
       "(1200, 9)"
      ]
     },
     "execution_count": 9,
     "metadata": {},
     "output_type": "execute_result"
    }
   ],
   "source": [
    "df.shape"
   ]
  },
  {
   "cell_type": "code",
   "execution_count": 12,
   "metadata": {},
   "outputs": [
    {
     "data": {
      "text/plain": [
       "type              83134.0\n",
       "in_contact         8579.0\n",
       "duration        1105497.0\n",
       "call_to           12205.0\n",
       "call_in            8995.0\n",
       "call_to_miss      12973.0\n",
       "call_in_miss       3505.0\n",
       "Spam                600.0\n",
       "Unnamed: 14           0.0\n",
       "dtype: float64"
      ]
     },
     "execution_count": 12,
     "metadata": {},
     "output_type": "execute_result"
    }
   ],
   "source": [
    "df.sum()"
   ]
  },
  {
   "cell_type": "code",
   "execution_count": 19,
   "metadata": {},
   "outputs": [],
   "source": [
    "X = df.iloc[:, :-2].values"
   ]
  },
  {
   "cell_type": "code",
   "execution_count": 20,
   "metadata": {},
   "outputs": [
    {
     "data": {
      "text/plain": [
       "array([[  270,    82,   129, ...,     9,    28,    41],\n",
       "       [ 2105,    29, 42620, ...,    86,   424,    44],\n",
       "       [ 2019,   102, 44968, ...,   214,   224,   102],\n",
       "       ...,\n",
       "       [    2,     1,    45, ...,     1,     0,     0],\n",
       "       [    1,     0,    19, ...,     0,     0,     0],\n",
       "       [    6,     0,     0, ...,     0,     2,     0]], dtype=int64)"
      ]
     },
     "execution_count": 20,
     "metadata": {},
     "output_type": "execute_result"
    }
   ],
   "source": [
    "X"
   ]
  },
  {
   "cell_type": "code",
   "execution_count": 22,
   "metadata": {},
   "outputs": [],
   "source": [
    "y = df.iloc[:, 7].values"
   ]
  },
  {
   "cell_type": "code",
   "execution_count": 23,
   "metadata": {},
   "outputs": [
    {
     "data": {
      "text/plain": [
       "array([1, 1, 1, ..., 0, 0, 0], dtype=int64)"
      ]
     },
     "execution_count": 23,
     "metadata": {},
     "output_type": "execute_result"
    }
   ],
   "source": [
    "y"
   ]
  },
  {
   "cell_type": "code",
   "execution_count": 24,
   "metadata": {},
   "outputs": [],
   "source": [
    "from sklearn.model_selection import train_test_split\n",
    "X_train, X_test, y_train, y_test = train_test_split(X, y, test_size = 0.25)"
   ]
  },
  {
   "cell_type": "code",
   "execution_count": 26,
   "metadata": {},
   "outputs": [
    {
     "data": {
      "text/plain": [
       "array([0, 0, 1, 0, 1, 0, 0, 1, 0, 0, 0, 1, 0, 0, 0, 1, 0, 1, 0, 0, 0, 0,\n",
       "       1, 0, 0, 1, 0, 1, 0, 0, 1, 1, 1, 0, 1, 0, 1, 1, 1, 0, 0, 0, 1, 0,\n",
       "       0, 0, 0, 1, 0, 0, 0, 1, 0, 0, 0, 0, 0, 1, 0, 0, 0, 1, 1, 1, 0, 0,\n",
       "       1, 0, 1, 1, 0, 1, 0, 1, 1, 1, 1, 1, 1, 1, 1, 0, 0, 1, 0, 1, 0, 1,\n",
       "       1, 1, 1, 0, 0, 0, 1, 1, 0, 1, 0, 0, 1, 1, 1, 1, 1, 1, 1, 0, 1, 0,\n",
       "       1, 1, 0, 0, 1, 1, 1, 1, 1, 0, 0, 0, 0, 1, 1, 1, 1, 0, 1, 1, 0, 1,\n",
       "       0, 1, 0, 1, 0, 1, 1, 1, 0, 1, 1, 0, 0, 1, 1, 1, 0, 0, 1, 1, 1, 0,\n",
       "       0, 0, 0, 0, 0, 0, 0, 1, 1, 1, 0, 0, 0, 1, 0, 1, 0, 1, 1, 1, 0, 1,\n",
       "       1, 0, 1, 1, 1, 0, 1, 0, 1, 0, 1, 1, 0, 1, 0, 0, 1, 0, 0, 0, 1, 0,\n",
       "       0, 0, 0, 1, 0, 0, 1, 1, 0, 0, 0, 1, 1, 0, 1, 1, 0, 1, 1, 0, 1, 0,\n",
       "       0, 0, 1, 1, 0, 1, 1, 0, 0, 1, 0, 1, 0, 0, 1, 1, 0, 1, 1, 1, 0, 0,\n",
       "       0, 0, 1, 1, 0, 0, 1, 0, 1, 0, 0, 1, 1, 0, 0, 0, 1, 1, 1, 1, 1, 1,\n",
       "       0, 0, 0, 1, 1, 1, 0, 0, 0, 0, 0, 0, 1, 0, 1, 1, 1, 0, 0, 1, 0, 0,\n",
       "       0, 1, 1, 1, 1, 0, 0, 0, 1, 0, 0, 0, 0, 1], dtype=int64)"
      ]
     },
     "execution_count": 26,
     "metadata": {},
     "output_type": "execute_result"
    }
   ],
   "source": [
    "y_test"
   ]
  },
  {
   "cell_type": "code",
   "execution_count": 40,
   "metadata": {},
   "outputs": [
    {
     "data": {
      "text/plain": [
       "RandomForestClassifier(n_estimators=50)"
      ]
     },
     "execution_count": 40,
     "metadata": {},
     "output_type": "execute_result"
    }
   ],
   "source": [
    "from sklearn.ensemble import RandomForestClassifier\n",
    "classifier = RandomForestClassifier(n_estimators = 50)\n",
    "classifier.fit(X_train, y_train)"
   ]
  },
  {
   "cell_type": "code",
   "execution_count": 41,
   "metadata": {},
   "outputs": [],
   "source": [
    "y_pred = classifier.predict(X_test)"
   ]
  },
  {
   "cell_type": "code",
   "execution_count": 42,
   "metadata": {},
   "outputs": [
    {
     "name": "stdout",
     "output_type": "stream",
     "text": [
      "Confusion Matrix:\n",
      "[[134  20]\n",
      " [ 25 121]]\n",
      "Classification Report:\n",
      "              precision    recall  f1-score   support\n",
      "\n",
      "           0       0.84      0.87      0.86       154\n",
      "           1       0.86      0.83      0.84       146\n",
      "\n",
      "    accuracy                           0.85       300\n",
      "   macro avg       0.85      0.85      0.85       300\n",
      "weighted avg       0.85      0.85      0.85       300\n",
      "\n",
      "Accuracy: 0.85\n"
     ]
    }
   ],
   "source": [
    "from sklearn.metrics import classification_report, confusion_matrix, accuracy_score\n",
    "result = confusion_matrix(y_test, y_pred)\n",
    "print(\"Confusion Matrix:\")\n",
    "print(result)\n",
    "result1 = classification_report(y_test, y_pred)\n",
    "print(\"Classification Report:\",)\n",
    "print (result1)\n",
    "result2 = accuracy_score(y_test,y_pred)\n",
    "print(\"Accuracy:\",result2)"
   ]
  },
  {
   "cell_type": "code",
   "execution_count": 43,
   "metadata": {},
   "outputs": [
    {
     "data": {
      "text/plain": [
       "RandomForestClassifier(n_estimators=10)"
      ]
     },
     "execution_count": 43,
     "metadata": {},
     "output_type": "execute_result"
    }
   ],
   "source": [
    "from sklearn.ensemble import RandomForestClassifier\n",
    "model_test = RandomForestClassifier(n_estimators = 10)\n",
    "model_test.fit(X_train, y_train)"
   ]
  },
  {
   "cell_type": "code",
   "execution_count": 44,
   "metadata": {},
   "outputs": [],
   "source": [
    "y_pred1 = classifier.predict(X_test)"
   ]
  },
  {
   "cell_type": "code",
   "execution_count": 45,
   "metadata": {},
   "outputs": [
    {
     "name": "stdout",
     "output_type": "stream",
     "text": [
      "Confusion Matrix:\n",
      "[[134  20]\n",
      " [ 25 121]]\n",
      "Classification Report:\n",
      "              precision    recall  f1-score   support\n",
      "\n",
      "           0       0.84      0.87      0.86       154\n",
      "           1       0.86      0.83      0.84       146\n",
      "\n",
      "    accuracy                           0.85       300\n",
      "   macro avg       0.85      0.85      0.85       300\n",
      "weighted avg       0.85      0.85      0.85       300\n",
      "\n",
      "Accuracy: 0.85\n"
     ]
    }
   ],
   "source": [
    "from sklearn.metrics import classification_report, confusion_matrix, accuracy_score\n",
    "result_0 = confusion_matrix(y_test, y_pred1)\n",
    "print(\"Confusion Matrix:\")\n",
    "print(result_0)\n",
    "result_1 = classification_report(y_test, y_pred1)\n",
    "print(\"Classification Report:\",)\n",
    "print (result_1)\n",
    "result_2 = accuracy_score(y_test,y_pred1)\n",
    "print(\"Accuracy:\",result_2)"
   ]
  },
  {
   "cell_type": "code",
   "execution_count": 67,
   "metadata": {},
   "outputs": [],
   "source": [
    "df.to_csv('data_spam_call.csv', index=False)"
   ]
  },
  {
   "cell_type": "code",
   "execution_count": 53,
   "metadata": {},
   "outputs": [],
   "source": [
    "for i in df.index:\n",
    "    if(df['call_in'][i].value + df['call_to'][i].values)\n",
    "    df['avg_drt']=df['duration']/(df['call_in']+df['call_to'])"
   ]
  },
  {
   "cell_type": "code",
   "execution_count": 55,
   "metadata": {},
   "outputs": [
    {
     "data": {
      "text/plain": [
       "73.56626506024097"
      ]
     },
     "execution_count": 55,
     "metadata": {},
     "output_type": "execute_result"
    }
   ],
   "source": [
    "df['avg_drt'][3]"
   ]
  },
  {
   "cell_type": "code",
   "execution_count": 56,
   "metadata": {},
   "outputs": [
    {
     "data": {
      "text/plain": [
       "232"
      ]
     },
     "execution_count": 56,
     "metadata": {},
     "output_type": "execute_result"
    }
   ],
   "source": [
    "df['avg_drt'].isnull().sum()"
   ]
  },
  {
   "cell_type": "code",
   "execution_count": 58,
   "metadata": {},
   "outputs": [
    {
     "data": {
      "text/plain": [
       "0       False\n",
       "1       False\n",
       "2       False\n",
       "3       False\n",
       "4       False\n",
       "        ...  \n",
       "1195    False\n",
       "1196    False\n",
       "1197    False\n",
       "1198    False\n",
       "1199     True\n",
       "Name: avg_drt, Length: 1200, dtype: bool"
      ]
     },
     "execution_count": 58,
     "metadata": {},
     "output_type": "execute_result"
    }
   ],
   "source": [
    "df['avg_drt'].isnull()"
   ]
  },
  {
   "cell_type": "code",
   "execution_count": 65,
   "metadata": {},
   "outputs": [],
   "source": [
    "for i in df.index:\n",
    "    if(df['avg_drt'][i]=='False'):\n",
    "        df['avg_drt'][i]=0"
   ]
  },
  {
   "cell_type": "code",
   "execution_count": 68,
   "metadata": {},
   "outputs": [
    {
     "data": {
      "text/plain": [
       "232"
      ]
     },
     "execution_count": 68,
     "metadata": {},
     "output_type": "execute_result"
    }
   ],
   "source": [
    "df['avg_drt']"
   ]
  },
  {
   "cell_type": "code",
   "execution_count": 69,
   "metadata": {},
   "outputs": [
    {
     "name": "stdout",
     "output_type": "stream",
     "text": [
      "<class 'pandas.core.frame.DataFrame'>\n",
      "RangeIndex: 1200 entries, 0 to 1199\n",
      "Data columns (total 10 columns):\n",
      "type            1200 non-null int64\n",
      "in_contact      1200 non-null int64\n",
      "duration        1200 non-null int64\n",
      "call_to         1200 non-null int64\n",
      "call_in         1200 non-null int64\n",
      "call_to_miss    1200 non-null int64\n",
      "call_in_miss    1200 non-null int64\n",
      "Spam            1200 non-null int64\n",
      "Unnamed: 14     0 non-null float64\n",
      "avg_drt         968 non-null float64\n",
      "dtypes: float64(2), int64(8)\n",
      "memory usage: 93.9 KB\n"
     ]
    }
   ],
   "source": [
    "df.info()"
   ]
  },
  {
   "cell_type": "code",
   "execution_count": 70,
   "metadata": {},
   "outputs": [],
   "source": [
    "df.fillna(0, inplace = True)"
   ]
  },
  {
   "cell_type": "code",
   "execution_count": 71,
   "metadata": {},
   "outputs": [
    {
     "name": "stdout",
     "output_type": "stream",
     "text": [
      "<class 'pandas.core.frame.DataFrame'>\n",
      "RangeIndex: 1200 entries, 0 to 1199\n",
      "Data columns (total 10 columns):\n",
      "type            1200 non-null int64\n",
      "in_contact      1200 non-null int64\n",
      "duration        1200 non-null int64\n",
      "call_to         1200 non-null int64\n",
      "call_in         1200 non-null int64\n",
      "call_to_miss    1200 non-null int64\n",
      "call_in_miss    1200 non-null int64\n",
      "Spam            1200 non-null int64\n",
      "Unnamed: 14     1200 non-null float64\n",
      "avg_drt         1200 non-null float64\n",
      "dtypes: float64(2), int64(8)\n",
      "memory usage: 93.9 KB\n"
     ]
    }
   ],
   "source": [
    "df.info()"
   ]
  },
  {
   "cell_type": "code",
   "execution_count": 72,
   "metadata": {},
   "outputs": [
    {
     "data": {
      "text/html": [
       "<div>\n",
       "<style scoped>\n",
       "    .dataframe tbody tr th:only-of-type {\n",
       "        vertical-align: middle;\n",
       "    }\n",
       "\n",
       "    .dataframe tbody tr th {\n",
       "        vertical-align: top;\n",
       "    }\n",
       "\n",
       "    .dataframe thead th {\n",
       "        text-align: right;\n",
       "    }\n",
       "</style>\n",
       "<table border=\"1\" class=\"dataframe\">\n",
       "  <thead>\n",
       "    <tr style=\"text-align: right;\">\n",
       "      <th></th>\n",
       "      <th>type</th>\n",
       "      <th>in_contact</th>\n",
       "      <th>duration</th>\n",
       "      <th>call_to</th>\n",
       "      <th>call_in</th>\n",
       "      <th>call_to_miss</th>\n",
       "      <th>call_in_miss</th>\n",
       "      <th>Spam</th>\n",
       "      <th>Unnamed: 14</th>\n",
       "      <th>avg_drt</th>\n",
       "    </tr>\n",
       "  </thead>\n",
       "  <tbody>\n",
       "    <tr>\n",
       "      <td>0</td>\n",
       "      <td>270</td>\n",
       "      <td>82</td>\n",
       "      <td>129</td>\n",
       "      <td>4</td>\n",
       "      <td>9</td>\n",
       "      <td>28</td>\n",
       "      <td>41</td>\n",
       "      <td>1</td>\n",
       "      <td>0.0</td>\n",
       "      <td>9.923077</td>\n",
       "    </tr>\n",
       "    <tr>\n",
       "      <td>1</td>\n",
       "      <td>2105</td>\n",
       "      <td>29</td>\n",
       "      <td>42620</td>\n",
       "      <td>485</td>\n",
       "      <td>86</td>\n",
       "      <td>424</td>\n",
       "      <td>44</td>\n",
       "      <td>1</td>\n",
       "      <td>0.0</td>\n",
       "      <td>74.640981</td>\n",
       "    </tr>\n",
       "    <tr>\n",
       "      <td>2</td>\n",
       "      <td>2019</td>\n",
       "      <td>102</td>\n",
       "      <td>44968</td>\n",
       "      <td>511</td>\n",
       "      <td>214</td>\n",
       "      <td>224</td>\n",
       "      <td>102</td>\n",
       "      <td>1</td>\n",
       "      <td>0.0</td>\n",
       "      <td>62.024828</td>\n",
       "    </tr>\n",
       "    <tr>\n",
       "      <td>3</td>\n",
       "      <td>580</td>\n",
       "      <td>77</td>\n",
       "      <td>6106</td>\n",
       "      <td>57</td>\n",
       "      <td>26</td>\n",
       "      <td>85</td>\n",
       "      <td>54</td>\n",
       "      <td>1</td>\n",
       "      <td>0.0</td>\n",
       "      <td>73.566265</td>\n",
       "    </tr>\n",
       "    <tr>\n",
       "      <td>4</td>\n",
       "      <td>23</td>\n",
       "      <td>9</td>\n",
       "      <td>455</td>\n",
       "      <td>1</td>\n",
       "      <td>5</td>\n",
       "      <td>0</td>\n",
       "      <td>3</td>\n",
       "      <td>1</td>\n",
       "      <td>0.0</td>\n",
       "      <td>75.833333</td>\n",
       "    </tr>\n",
       "    <tr>\n",
       "      <td>...</td>\n",
       "      <td>...</td>\n",
       "      <td>...</td>\n",
       "      <td>...</td>\n",
       "      <td>...</td>\n",
       "      <td>...</td>\n",
       "      <td>...</td>\n",
       "      <td>...</td>\n",
       "      <td>...</td>\n",
       "      <td>...</td>\n",
       "      <td>...</td>\n",
       "    </tr>\n",
       "    <tr>\n",
       "      <td>1195</td>\n",
       "      <td>6</td>\n",
       "      <td>0</td>\n",
       "      <td>16</td>\n",
       "      <td>2</td>\n",
       "      <td>0</td>\n",
       "      <td>0</td>\n",
       "      <td>1</td>\n",
       "      <td>0</td>\n",
       "      <td>0.0</td>\n",
       "      <td>8.000000</td>\n",
       "    </tr>\n",
       "    <tr>\n",
       "      <td>1196</td>\n",
       "      <td>1</td>\n",
       "      <td>1</td>\n",
       "      <td>16</td>\n",
       "      <td>1</td>\n",
       "      <td>0</td>\n",
       "      <td>0</td>\n",
       "      <td>0</td>\n",
       "      <td>0</td>\n",
       "      <td>0.0</td>\n",
       "      <td>16.000000</td>\n",
       "    </tr>\n",
       "    <tr>\n",
       "      <td>1197</td>\n",
       "      <td>2</td>\n",
       "      <td>1</td>\n",
       "      <td>45</td>\n",
       "      <td>0</td>\n",
       "      <td>1</td>\n",
       "      <td>0</td>\n",
       "      <td>0</td>\n",
       "      <td>0</td>\n",
       "      <td>0.0</td>\n",
       "      <td>45.000000</td>\n",
       "    </tr>\n",
       "    <tr>\n",
       "      <td>1198</td>\n",
       "      <td>1</td>\n",
       "      <td>0</td>\n",
       "      <td>19</td>\n",
       "      <td>1</td>\n",
       "      <td>0</td>\n",
       "      <td>0</td>\n",
       "      <td>0</td>\n",
       "      <td>0</td>\n",
       "      <td>0.0</td>\n",
       "      <td>19.000000</td>\n",
       "    </tr>\n",
       "    <tr>\n",
       "      <td>1199</td>\n",
       "      <td>6</td>\n",
       "      <td>0</td>\n",
       "      <td>0</td>\n",
       "      <td>0</td>\n",
       "      <td>0</td>\n",
       "      <td>2</td>\n",
       "      <td>0</td>\n",
       "      <td>0</td>\n",
       "      <td>0.0</td>\n",
       "      <td>0.000000</td>\n",
       "    </tr>\n",
       "  </tbody>\n",
       "</table>\n",
       "<p>1200 rows × 10 columns</p>\n",
       "</div>"
      ],
      "text/plain": [
       "      type  in_contact  duration  call_to  call_in  call_to_miss  \\\n",
       "0      270          82       129        4        9            28   \n",
       "1     2105          29     42620      485       86           424   \n",
       "2     2019         102     44968      511      214           224   \n",
       "3      580          77      6106       57       26            85   \n",
       "4       23           9       455        1        5             0   \n",
       "...    ...         ...       ...      ...      ...           ...   \n",
       "1195     6           0        16        2        0             0   \n",
       "1196     1           1        16        1        0             0   \n",
       "1197     2           1        45        0        1             0   \n",
       "1198     1           0        19        1        0             0   \n",
       "1199     6           0         0        0        0             2   \n",
       "\n",
       "      call_in_miss  Spam  Unnamed: 14    avg_drt  \n",
       "0               41     1          0.0   9.923077  \n",
       "1               44     1          0.0  74.640981  \n",
       "2              102     1          0.0  62.024828  \n",
       "3               54     1          0.0  73.566265  \n",
       "4                3     1          0.0  75.833333  \n",
       "...            ...   ...          ...        ...  \n",
       "1195             1     0          0.0   8.000000  \n",
       "1196             0     0          0.0  16.000000  \n",
       "1197             0     0          0.0  45.000000  \n",
       "1198             0     0          0.0  19.000000  \n",
       "1199             0     0          0.0   0.000000  \n",
       "\n",
       "[1200 rows x 10 columns]"
      ]
     },
     "execution_count": 72,
     "metadata": {},
     "output_type": "execute_result"
    }
   ],
   "source": [
    "df\n"
   ]
  },
  {
   "cell_type": "code",
   "execution_count": 77,
   "metadata": {},
   "outputs": [
    {
     "data": {
      "text/html": [
       "<div>\n",
       "<style scoped>\n",
       "    .dataframe tbody tr th:only-of-type {\n",
       "        vertical-align: middle;\n",
       "    }\n",
       "\n",
       "    .dataframe tbody tr th {\n",
       "        vertical-align: top;\n",
       "    }\n",
       "\n",
       "    .dataframe thead th {\n",
       "        text-align: right;\n",
       "    }\n",
       "</style>\n",
       "<table border=\"1\" class=\"dataframe\">\n",
       "  <thead>\n",
       "    <tr style=\"text-align: right;\">\n",
       "      <th></th>\n",
       "      <th>type</th>\n",
       "      <th>in_contact</th>\n",
       "      <th>call_to</th>\n",
       "      <th>call_in</th>\n",
       "      <th>call_to_miss</th>\n",
       "      <th>call_in_miss</th>\n",
       "      <th>Spam</th>\n",
       "      <th>Unnamed: 14</th>\n",
       "      <th>avg_drt</th>\n",
       "    </tr>\n",
       "  </thead>\n",
       "  <tbody>\n",
       "    <tr>\n",
       "      <td>0</td>\n",
       "      <td>270</td>\n",
       "      <td>82</td>\n",
       "      <td>4</td>\n",
       "      <td>9</td>\n",
       "      <td>28</td>\n",
       "      <td>41</td>\n",
       "      <td>1</td>\n",
       "      <td>0.0</td>\n",
       "      <td>9.923077</td>\n",
       "    </tr>\n",
       "    <tr>\n",
       "      <td>1</td>\n",
       "      <td>2105</td>\n",
       "      <td>29</td>\n",
       "      <td>485</td>\n",
       "      <td>86</td>\n",
       "      <td>424</td>\n",
       "      <td>44</td>\n",
       "      <td>1</td>\n",
       "      <td>0.0</td>\n",
       "      <td>74.640981</td>\n",
       "    </tr>\n",
       "    <tr>\n",
       "      <td>2</td>\n",
       "      <td>2019</td>\n",
       "      <td>102</td>\n",
       "      <td>511</td>\n",
       "      <td>214</td>\n",
       "      <td>224</td>\n",
       "      <td>102</td>\n",
       "      <td>1</td>\n",
       "      <td>0.0</td>\n",
       "      <td>62.024828</td>\n",
       "    </tr>\n",
       "    <tr>\n",
       "      <td>3</td>\n",
       "      <td>580</td>\n",
       "      <td>77</td>\n",
       "      <td>57</td>\n",
       "      <td>26</td>\n",
       "      <td>85</td>\n",
       "      <td>54</td>\n",
       "      <td>1</td>\n",
       "      <td>0.0</td>\n",
       "      <td>73.566265</td>\n",
       "    </tr>\n",
       "    <tr>\n",
       "      <td>4</td>\n",
       "      <td>23</td>\n",
       "      <td>9</td>\n",
       "      <td>1</td>\n",
       "      <td>5</td>\n",
       "      <td>0</td>\n",
       "      <td>3</td>\n",
       "      <td>1</td>\n",
       "      <td>0.0</td>\n",
       "      <td>75.833333</td>\n",
       "    </tr>\n",
       "    <tr>\n",
       "      <td>...</td>\n",
       "      <td>...</td>\n",
       "      <td>...</td>\n",
       "      <td>...</td>\n",
       "      <td>...</td>\n",
       "      <td>...</td>\n",
       "      <td>...</td>\n",
       "      <td>...</td>\n",
       "      <td>...</td>\n",
       "      <td>...</td>\n",
       "    </tr>\n",
       "    <tr>\n",
       "      <td>1195</td>\n",
       "      <td>6</td>\n",
       "      <td>0</td>\n",
       "      <td>2</td>\n",
       "      <td>0</td>\n",
       "      <td>0</td>\n",
       "      <td>1</td>\n",
       "      <td>0</td>\n",
       "      <td>0.0</td>\n",
       "      <td>8.000000</td>\n",
       "    </tr>\n",
       "    <tr>\n",
       "      <td>1196</td>\n",
       "      <td>1</td>\n",
       "      <td>1</td>\n",
       "      <td>1</td>\n",
       "      <td>0</td>\n",
       "      <td>0</td>\n",
       "      <td>0</td>\n",
       "      <td>0</td>\n",
       "      <td>0.0</td>\n",
       "      <td>16.000000</td>\n",
       "    </tr>\n",
       "    <tr>\n",
       "      <td>1197</td>\n",
       "      <td>2</td>\n",
       "      <td>1</td>\n",
       "      <td>0</td>\n",
       "      <td>1</td>\n",
       "      <td>0</td>\n",
       "      <td>0</td>\n",
       "      <td>0</td>\n",
       "      <td>0.0</td>\n",
       "      <td>45.000000</td>\n",
       "    </tr>\n",
       "    <tr>\n",
       "      <td>1198</td>\n",
       "      <td>1</td>\n",
       "      <td>0</td>\n",
       "      <td>1</td>\n",
       "      <td>0</td>\n",
       "      <td>0</td>\n",
       "      <td>0</td>\n",
       "      <td>0</td>\n",
       "      <td>0.0</td>\n",
       "      <td>19.000000</td>\n",
       "    </tr>\n",
       "    <tr>\n",
       "      <td>1199</td>\n",
       "      <td>6</td>\n",
       "      <td>0</td>\n",
       "      <td>0</td>\n",
       "      <td>0</td>\n",
       "      <td>2</td>\n",
       "      <td>0</td>\n",
       "      <td>0</td>\n",
       "      <td>0.0</td>\n",
       "      <td>0.000000</td>\n",
       "    </tr>\n",
       "  </tbody>\n",
       "</table>\n",
       "<p>1200 rows × 9 columns</p>\n",
       "</div>"
      ],
      "text/plain": [
       "      type  in_contact  call_to  call_in  call_to_miss  call_in_miss  Spam  \\\n",
       "0      270          82        4        9            28            41     1   \n",
       "1     2105          29      485       86           424            44     1   \n",
       "2     2019         102      511      214           224           102     1   \n",
       "3      580          77       57       26            85            54     1   \n",
       "4       23           9        1        5             0             3     1   \n",
       "...    ...         ...      ...      ...           ...           ...   ...   \n",
       "1195     6           0        2        0             0             1     0   \n",
       "1196     1           1        1        0             0             0     0   \n",
       "1197     2           1        0        1             0             0     0   \n",
       "1198     1           0        1        0             0             0     0   \n",
       "1199     6           0        0        0             2             0     0   \n",
       "\n",
       "      Unnamed: 14    avg_drt  \n",
       "0             0.0   9.923077  \n",
       "1             0.0  74.640981  \n",
       "2             0.0  62.024828  \n",
       "3             0.0  73.566265  \n",
       "4             0.0  75.833333  \n",
       "...           ...        ...  \n",
       "1195          0.0   8.000000  \n",
       "1196          0.0  16.000000  \n",
       "1197          0.0  45.000000  \n",
       "1198          0.0  19.000000  \n",
       "1199          0.0   0.000000  \n",
       "\n",
       "[1200 rows x 9 columns]"
      ]
     },
     "execution_count": 77,
     "metadata": {},
     "output_type": "execute_result"
    }
   ],
   "source": [
    "df.drop(['duration'], axis=1)"
   ]
  },
  {
   "cell_type": "code",
   "execution_count": 85,
   "metadata": {},
   "outputs": [],
   "source": [
    "new_df=df[[\"type\",\"in_contact\",\"call_to\",\"call_in\",\"call_to_miss\",\"call_in_miss\",\"avg_drt\",\"Spam\"]]"
   ]
  },
  {
   "cell_type": "code",
   "execution_count": 86,
   "metadata": {},
   "outputs": [
    {
     "data": {
      "text/html": [
       "<div>\n",
       "<style scoped>\n",
       "    .dataframe tbody tr th:only-of-type {\n",
       "        vertical-align: middle;\n",
       "    }\n",
       "\n",
       "    .dataframe tbody tr th {\n",
       "        vertical-align: top;\n",
       "    }\n",
       "\n",
       "    .dataframe thead th {\n",
       "        text-align: right;\n",
       "    }\n",
       "</style>\n",
       "<table border=\"1\" class=\"dataframe\">\n",
       "  <thead>\n",
       "    <tr style=\"text-align: right;\">\n",
       "      <th></th>\n",
       "      <th>type</th>\n",
       "      <th>in_contact</th>\n",
       "      <th>call_to</th>\n",
       "      <th>call_in</th>\n",
       "      <th>call_to_miss</th>\n",
       "      <th>call_in_miss</th>\n",
       "      <th>avg_drt</th>\n",
       "      <th>Spam</th>\n",
       "    </tr>\n",
       "  </thead>\n",
       "  <tbody>\n",
       "    <tr>\n",
       "      <td>0</td>\n",
       "      <td>270</td>\n",
       "      <td>82</td>\n",
       "      <td>4</td>\n",
       "      <td>9</td>\n",
       "      <td>28</td>\n",
       "      <td>41</td>\n",
       "      <td>9.923077</td>\n",
       "      <td>1</td>\n",
       "    </tr>\n",
       "    <tr>\n",
       "      <td>1</td>\n",
       "      <td>2105</td>\n",
       "      <td>29</td>\n",
       "      <td>485</td>\n",
       "      <td>86</td>\n",
       "      <td>424</td>\n",
       "      <td>44</td>\n",
       "      <td>74.640981</td>\n",
       "      <td>1</td>\n",
       "    </tr>\n",
       "    <tr>\n",
       "      <td>2</td>\n",
       "      <td>2019</td>\n",
       "      <td>102</td>\n",
       "      <td>511</td>\n",
       "      <td>214</td>\n",
       "      <td>224</td>\n",
       "      <td>102</td>\n",
       "      <td>62.024828</td>\n",
       "      <td>1</td>\n",
       "    </tr>\n",
       "    <tr>\n",
       "      <td>3</td>\n",
       "      <td>580</td>\n",
       "      <td>77</td>\n",
       "      <td>57</td>\n",
       "      <td>26</td>\n",
       "      <td>85</td>\n",
       "      <td>54</td>\n",
       "      <td>73.566265</td>\n",
       "      <td>1</td>\n",
       "    </tr>\n",
       "    <tr>\n",
       "      <td>4</td>\n",
       "      <td>23</td>\n",
       "      <td>9</td>\n",
       "      <td>1</td>\n",
       "      <td>5</td>\n",
       "      <td>0</td>\n",
       "      <td>3</td>\n",
       "      <td>75.833333</td>\n",
       "      <td>1</td>\n",
       "    </tr>\n",
       "  </tbody>\n",
       "</table>\n",
       "</div>"
      ],
      "text/plain": [
       "   type  in_contact  call_to  call_in  call_to_miss  call_in_miss    avg_drt  \\\n",
       "0   270          82        4        9            28            41   9.923077   \n",
       "1  2105          29      485       86           424            44  74.640981   \n",
       "2  2019         102      511      214           224           102  62.024828   \n",
       "3   580          77       57       26            85            54  73.566265   \n",
       "4    23           9        1        5             0             3  75.833333   \n",
       "\n",
       "   Spam  \n",
       "0     1  \n",
       "1     1  \n",
       "2     1  \n",
       "3     1  \n",
       "4     1  "
      ]
     },
     "execution_count": 86,
     "metadata": {},
     "output_type": "execute_result"
    }
   ],
   "source": [
    "new_df.head()"
   ]
  },
  {
   "cell_type": "code",
   "execution_count": 87,
   "metadata": {},
   "outputs": [],
   "source": [
    "from sklearn.model_selection import train_test_split\n",
    "X_train, X_test, y_train, y_test = train_test_split(X, y, test_size = 0.25)"
   ]
  },
  {
   "cell_type": "code",
   "execution_count": 88,
   "metadata": {},
   "outputs": [
    {
     "data": {
      "text/plain": [
       "RandomForestClassifier(n_estimators=10)"
      ]
     },
     "execution_count": 88,
     "metadata": {},
     "output_type": "execute_result"
    }
   ],
   "source": [
    "from sklearn.ensemble import RandomForestClassifier\n",
    "model_test = RandomForestClassifier(n_estimators = 10)\n",
    "model_test.fit(X_train, y_train)"
   ]
  },
  {
   "cell_type": "code",
   "execution_count": 89,
   "metadata": {},
   "outputs": [],
   "source": [
    "y_pred = classifier.predict(X_test)"
   ]
  },
  {
   "cell_type": "code",
   "execution_count": 90,
   "metadata": {},
   "outputs": [
    {
     "name": "stdout",
     "output_type": "stream",
     "text": [
      "Confusion Matrix:\n",
      "[[137  14]\n",
      " [  8 141]]\n",
      "Classification Report:\n",
      "              precision    recall  f1-score   support\n",
      "\n",
      "           0       0.94      0.91      0.93       151\n",
      "           1       0.91      0.95      0.93       149\n",
      "\n",
      "    accuracy                           0.93       300\n",
      "   macro avg       0.93      0.93      0.93       300\n",
      "weighted avg       0.93      0.93      0.93       300\n",
      "\n",
      "Accuracy: 0.9266666666666666\n"
     ]
    }
   ],
   "source": [
    "from sklearn.metrics import classification_report, confusion_matrix, accuracy_score\n",
    "result = confusion_matrix(y_test, y_pred)\n",
    "print(\"Confusion Matrix:\")\n",
    "print(result)\n",
    "result1 = classification_report(y_test, y_pred)\n",
    "print(\"Classification Report:\",)\n",
    "print (result1)\n",
    "result2 = accuracy_score(y_test,y_pred)\n",
    "print(\"Accuracy:\",result2)"
   ]
  },
  {
   "cell_type": "code",
   "execution_count": null,
   "metadata": {},
   "outputs": [],
   "source": []
  }
 ],
 "metadata": {
  "kernelspec": {
   "display_name": "Python 3",
   "language": "python",
   "name": "python3"
  },
  "language_info": {
   "codemirror_mode": {
    "name": "ipython",
    "version": 3
   },
   "file_extension": ".py",
   "mimetype": "text/x-python",
   "name": "python",
   "nbconvert_exporter": "python",
   "pygments_lexer": "ipython3",
   "version": "3.7.4"
  }
 },
 "nbformat": 4,
 "nbformat_minor": 2
}
